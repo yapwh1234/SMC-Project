{
 "cells": [
  {
   "cell_type": "markdown",
   "id": "6d4ad0e6",
   "metadata": {},
   "source": [
    "## Bitcoin Sentiment Analysis\n",
    "\n",
    "Members:\n",
    "1. Choo Chee Choong(1221302637)\n",
    "2. Yap Weng Hong(1211103023)\n"
   ]
  },
  {
   "cell_type": "markdown",
   "id": "3077efcd",
   "metadata": {},
   "source": [
    "First, let's Import the necessary ibraries"
   ]
  },
  {
   "cell_type": "code",
   "execution_count": 1,
   "id": "cca6de35",
   "metadata": {},
   "outputs": [],
   "source": [
    "import nltk\n",
    "import pandas as pd\n",
    "import re\n",
    "from tqdm import tqdm\n",
    "import pandas as pd\n",
    "from nltk.tokenize import sent_tokenize, word_tokenize\n",
    "from nltk.stem import PorterStemmer, WordNetLemmatizer\n",
    "from nltk import pos_tag\n",
    "from nltk.corpus import stopwords\n",
    "import matplotlib.pyplot as plt\n",
    "import seaborn as sns\n",
    "from collections import Counter\n",
    "import ast\n",
    "import string\n",
    "from textblob import TextBlob\n",
    "from sklearn.cluster import KMeans\n",
    "from transformers import AutoTokenizer, AutoModelForTokenClassification\n",
    "from transformers import pipeline\n",
    "from sklearn.metrics.pairwise import cosine_similarity\n",
    "from vaderSentiment.vaderSentiment import SentimentIntensityAnalyzer\n",
    "from afinn import Afinn\n",
    "from mlxtend.preprocessing import TransactionEncoder\n",
    "import networkx as nx\n",
    "import community as community_louvain\n",
    "from itertools import combinations\n",
    "from nltk.wsd import lesk\n",
    "import spacy \n",
    "from nltk.corpus import wordnet as wn\n",
    "import requests\n",
    "from spacy import displacy\n",
    "import torch\n",
    "import torch.nn as nn\n",
    "import torch.nn.functional as F\n",
    "from torch.utils.data import DataLoader, Dataset\n",
    "from sklearn.feature_extraction.text import CountVectorizer\n",
    "from sklearn.preprocessing import normalize\n",
    "import numpy as np\n",
    "from sklearn.decomposition import LatentDirichletAllocation\n",
    "from mlxtend.frequent_patterns import apriori, association_rules\n",
    "from sklearn.preprocessing import LabelEncoder\n",
    "from sklearn.model_selection import train_test_split\n",
    "from sklearn.metrics import classification_report, confusion_matrix,accuracy_score, f1_score    \n",
    "from tensorflow.keras.utils import to_categorical\n",
    "from tensorflow.keras.preprocessing.text import Tokenizer\n",
    "from tensorflow.keras.preprocessing.sequence import pad_sequences\n",
    "from tensorflow.keras.models import Sequential\n",
    "from tensorflow.keras.layers import Embedding, Bidirectional, LSTM, Dense, Dropout, Input"
   ]
  },
  {
   "cell_type": "markdown",
   "id": "f97a1e7e",
   "metadata": {},
   "source": [
    "Load Dataset"
   ]
  },
  {
   "cell_type": "code",
   "execution_count": 2,
   "id": "95e31108-9e66-4b36-a948-f4bc88ed15e6",
   "metadata": {},
   "outputs": [
    {
     "name": "stdout",
     "output_type": "stream",
     "text": [
      "(2259788, 13)\n"
     ]
    }
   ],
   "source": [
    "df = pd.read_csv('Bitcoin_tweets.csv', engine='python')\n",
    "print(df.shape)"
   ]
  },
  {
   "cell_type": "code",
   "execution_count": 3,
   "id": "ad7d0fb8",
   "metadata": {},
   "outputs": [
    {
     "data": {
      "text/html": [
       "<div>\n",
       "<style scoped>\n",
       "    .dataframe tbody tr th:only-of-type {\n",
       "        vertical-align: middle;\n",
       "    }\n",
       "\n",
       "    .dataframe tbody tr th {\n",
       "        vertical-align: top;\n",
       "    }\n",
       "\n",
       "    .dataframe thead th {\n",
       "        text-align: right;\n",
       "    }\n",
       "</style>\n",
       "<table border=\"1\" class=\"dataframe\">\n",
       "  <thead>\n",
       "    <tr style=\"text-align: right;\">\n",
       "      <th></th>\n",
       "      <th>user_name</th>\n",
       "      <th>user_location</th>\n",
       "      <th>user_description</th>\n",
       "      <th>user_created</th>\n",
       "      <th>user_followers</th>\n",
       "      <th>user_friends</th>\n",
       "      <th>user_favourites</th>\n",
       "      <th>user_verified</th>\n",
       "      <th>date</th>\n",
       "      <th>text</th>\n",
       "      <th>hashtags</th>\n",
       "      <th>source</th>\n",
       "      <th>is_retweet</th>\n",
       "    </tr>\n",
       "  </thead>\n",
       "  <tbody>\n",
       "    <tr>\n",
       "      <th>0</th>\n",
       "      <td>DeSota Wilson</td>\n",
       "      <td>Atlanta, GA</td>\n",
       "      <td>Biz Consultant, real estate, fintech, startups...</td>\n",
       "      <td>2009-04-26 20:05:09</td>\n",
       "      <td>8534.0</td>\n",
       "      <td>7605</td>\n",
       "      <td>4838</td>\n",
       "      <td>False</td>\n",
       "      <td>2021-02-10 23:59:04</td>\n",
       "      <td>Blue Ridge Bank shares halted by NYSE after #b...</td>\n",
       "      <td>['bitcoin']</td>\n",
       "      <td>Twitter Web App</td>\n",
       "      <td>False</td>\n",
       "    </tr>\n",
       "    <tr>\n",
       "      <th>1</th>\n",
       "      <td>CryptoND</td>\n",
       "      <td>NaN</td>\n",
       "      <td>😎 BITCOINLIVE is a Dutch platform aimed at inf...</td>\n",
       "      <td>2019-10-17 20:12:10</td>\n",
       "      <td>6769.0</td>\n",
       "      <td>1532</td>\n",
       "      <td>25483</td>\n",
       "      <td>False</td>\n",
       "      <td>2021-02-10 23:58:48</td>\n",
       "      <td>😎 Today, that's this #Thursday, we will do a \"...</td>\n",
       "      <td>['Thursday', 'Btc', 'wallet', 'security']</td>\n",
       "      <td>Twitter for Android</td>\n",
       "      <td>False</td>\n",
       "    </tr>\n",
       "    <tr>\n",
       "      <th>2</th>\n",
       "      <td>Tdlmatias</td>\n",
       "      <td>London, England</td>\n",
       "      <td>IM Academy : The best #forex, #SelfEducation, ...</td>\n",
       "      <td>2014-11-10 10:50:37</td>\n",
       "      <td>128.0</td>\n",
       "      <td>332</td>\n",
       "      <td>924</td>\n",
       "      <td>False</td>\n",
       "      <td>2021-02-10 23:54:48</td>\n",
       "      <td>Guys evening, I have read this article about B...</td>\n",
       "      <td>NaN</td>\n",
       "      <td>Twitter Web App</td>\n",
       "      <td>False</td>\n",
       "    </tr>\n",
       "    <tr>\n",
       "      <th>3</th>\n",
       "      <td>Crypto is the future</td>\n",
       "      <td>NaN</td>\n",
       "      <td>I will post a lot of buying signals for BTC tr...</td>\n",
       "      <td>2019-09-28 16:48:12</td>\n",
       "      <td>625.0</td>\n",
       "      <td>129</td>\n",
       "      <td>14</td>\n",
       "      <td>False</td>\n",
       "      <td>2021-02-10 23:54:33</td>\n",
       "      <td>$BTC A big chance in a billion! Price: \\487264...</td>\n",
       "      <td>['Bitcoin', 'FX', 'BTC', 'crypto']</td>\n",
       "      <td>dlvr.it</td>\n",
       "      <td>False</td>\n",
       "    </tr>\n",
       "    <tr>\n",
       "      <th>4</th>\n",
       "      <td>Alex Kirchmaier 🇦🇹🇸🇪 #FactsSuperspreader</td>\n",
       "      <td>Europa</td>\n",
       "      <td>Co-founder @RENJERJerky | Forbes 30Under30 | I...</td>\n",
       "      <td>2016-02-03 13:15:55</td>\n",
       "      <td>1249.0</td>\n",
       "      <td>1472</td>\n",
       "      <td>10482</td>\n",
       "      <td>False</td>\n",
       "      <td>2021-02-10 23:54:06</td>\n",
       "      <td>This network is secured by 9 508 nodes as of t...</td>\n",
       "      <td>['BTC']</td>\n",
       "      <td>Twitter Web App</td>\n",
       "      <td>False</td>\n",
       "    </tr>\n",
       "  </tbody>\n",
       "</table>\n",
       "</div>"
      ],
      "text/plain": [
       "                                  user_name    user_location  \\\n",
       "0                             DeSota Wilson      Atlanta, GA   \n",
       "1                                  CryptoND              NaN   \n",
       "2                                 Tdlmatias  London, England   \n",
       "3                      Crypto is the future              NaN   \n",
       "4  Alex Kirchmaier 🇦🇹🇸🇪 #FactsSuperspreader           Europa   \n",
       "\n",
       "                                    user_description         user_created  \\\n",
       "0  Biz Consultant, real estate, fintech, startups...  2009-04-26 20:05:09   \n",
       "1  😎 BITCOINLIVE is a Dutch platform aimed at inf...  2019-10-17 20:12:10   \n",
       "2  IM Academy : The best #forex, #SelfEducation, ...  2014-11-10 10:50:37   \n",
       "3  I will post a lot of buying signals for BTC tr...  2019-09-28 16:48:12   \n",
       "4  Co-founder @RENJERJerky | Forbes 30Under30 | I...  2016-02-03 13:15:55   \n",
       "\n",
       "   user_followers user_friends user_favourites user_verified  \\\n",
       "0          8534.0         7605            4838         False   \n",
       "1          6769.0         1532           25483         False   \n",
       "2           128.0          332             924         False   \n",
       "3           625.0          129              14         False   \n",
       "4          1249.0         1472           10482         False   \n",
       "\n",
       "                  date                                               text  \\\n",
       "0  2021-02-10 23:59:04  Blue Ridge Bank shares halted by NYSE after #b...   \n",
       "1  2021-02-10 23:58:48  😎 Today, that's this #Thursday, we will do a \"...   \n",
       "2  2021-02-10 23:54:48  Guys evening, I have read this article about B...   \n",
       "3  2021-02-10 23:54:33  $BTC A big chance in a billion! Price: \\487264...   \n",
       "4  2021-02-10 23:54:06  This network is secured by 9 508 nodes as of t...   \n",
       "\n",
       "                                    hashtags               source is_retweet  \n",
       "0                                ['bitcoin']      Twitter Web App      False  \n",
       "1  ['Thursday', 'Btc', 'wallet', 'security']  Twitter for Android      False  \n",
       "2                                        NaN      Twitter Web App      False  \n",
       "3         ['Bitcoin', 'FX', 'BTC', 'crypto']              dlvr.it      False  \n",
       "4                                    ['BTC']      Twitter Web App      False  "
      ]
     },
     "execution_count": 3,
     "metadata": {},
     "output_type": "execute_result"
    }
   ],
   "source": [
    "df.head()"
   ]
  },
  {
   "cell_type": "markdown",
   "id": "a6bd5c19",
   "metadata": {},
   "source": [
    "## Data Cleaning \n",
    "Let's check if there's any missing values. "
   ]
  },
  {
   "cell_type": "code",
   "execution_count": 4,
   "id": "a6574043",
   "metadata": {},
   "outputs": [
    {
     "data": {
      "text/plain": [
       "user_name                32\n",
       "user_location       1095667\n",
       "user_description     270403\n",
       "user_created             99\n",
       "user_followers          138\n",
       "user_friends            138\n",
       "user_favourites         138\n",
       "user_verified           138\n",
       "date                    138\n",
       "text                    138\n",
       "hashtags              17153\n",
       "source                 3722\n",
       "is_retweet              408\n",
       "dtype: int64"
      ]
     },
     "execution_count": 4,
     "metadata": {},
     "output_type": "execute_result"
    }
   ],
   "source": [
    "df.isnull().sum()"
   ]
  },
  {
   "cell_type": "markdown",
   "id": "84a90bc7",
   "metadata": {},
   "source": [
    "Remove the missing values and duplicated values"
   ]
  },
  {
   "cell_type": "code",
   "execution_count": 5,
   "id": "e3d6991d",
   "metadata": {},
   "outputs": [],
   "source": [
    "df = df.dropna()"
   ]
  },
  {
   "cell_type": "code",
   "execution_count": 6,
   "id": "70e34c11",
   "metadata": {},
   "outputs": [
    {
     "data": {
      "text/html": [
       "<div>\n",
       "<style scoped>\n",
       "    .dataframe tbody tr th:only-of-type {\n",
       "        vertical-align: middle;\n",
       "    }\n",
       "\n",
       "    .dataframe tbody tr th {\n",
       "        vertical-align: top;\n",
       "    }\n",
       "\n",
       "    .dataframe thead th {\n",
       "        text-align: right;\n",
       "    }\n",
       "</style>\n",
       "<table border=\"1\" class=\"dataframe\">\n",
       "  <thead>\n",
       "    <tr style=\"text-align: right;\">\n",
       "      <th></th>\n",
       "      <th>user_name</th>\n",
       "      <th>user_location</th>\n",
       "      <th>user_description</th>\n",
       "      <th>user_created</th>\n",
       "      <th>user_followers</th>\n",
       "      <th>user_friends</th>\n",
       "      <th>user_favourites</th>\n",
       "      <th>user_verified</th>\n",
       "      <th>date</th>\n",
       "      <th>text</th>\n",
       "      <th>hashtags</th>\n",
       "      <th>source</th>\n",
       "      <th>is_retweet</th>\n",
       "    </tr>\n",
       "  </thead>\n",
       "  <tbody>\n",
       "    <tr>\n",
       "      <th>0</th>\n",
       "      <td>DeSota Wilson</td>\n",
       "      <td>Atlanta, GA</td>\n",
       "      <td>Biz Consultant, real estate, fintech, startups...</td>\n",
       "      <td>2009-04-26 20:05:09</td>\n",
       "      <td>8534.0</td>\n",
       "      <td>7605</td>\n",
       "      <td>4838</td>\n",
       "      <td>False</td>\n",
       "      <td>2021-02-10 23:59:04</td>\n",
       "      <td>Blue Ridge Bank shares halted by NYSE after #b...</td>\n",
       "      <td>['bitcoin']</td>\n",
       "      <td>Twitter Web App</td>\n",
       "      <td>False</td>\n",
       "    </tr>\n",
       "    <tr>\n",
       "      <th>4</th>\n",
       "      <td>Alex Kirchmaier 🇦🇹🇸🇪 #FactsSuperspreader</td>\n",
       "      <td>Europa</td>\n",
       "      <td>Co-founder @RENJERJerky | Forbes 30Under30 | I...</td>\n",
       "      <td>2016-02-03 13:15:55</td>\n",
       "      <td>1249.0</td>\n",
       "      <td>1472</td>\n",
       "      <td>10482</td>\n",
       "      <td>False</td>\n",
       "      <td>2021-02-10 23:54:06</td>\n",
       "      <td>This network is secured by 9 508 nodes as of t...</td>\n",
       "      <td>['BTC']</td>\n",
       "      <td>Twitter Web App</td>\n",
       "      <td>False</td>\n",
       "    </tr>\n",
       "    <tr>\n",
       "      <th>5</th>\n",
       "      <td>ZerrBenz™ ⚔ ✪ 20732</td>\n",
       "      <td>Bkk, Thailand</td>\n",
       "      <td>I'm a cat slave 🐱 Interested in Blockchain · T...</td>\n",
       "      <td>2010-01-12 07:00:04</td>\n",
       "      <td>742.0</td>\n",
       "      <td>716</td>\n",
       "      <td>2444</td>\n",
       "      <td>False</td>\n",
       "      <td>2021-02-10 23:53:30</td>\n",
       "      <td>💹 Trade #Crypto on #Binance \\n\\n📌 Enjoy #Cashb...</td>\n",
       "      <td>['Crypto', 'Binance', 'Cashback']</td>\n",
       "      <td>Twitter Web App</td>\n",
       "      <td>False</td>\n",
       "    </tr>\n",
       "    <tr>\n",
       "      <th>6</th>\n",
       "      <td>Bitcoin-Bot</td>\n",
       "      <td>Florida, USA</td>\n",
       "      <td>Bot to generate Bitcoin picture as combination...</td>\n",
       "      <td>2019-12-23 16:49:16</td>\n",
       "      <td>131.0</td>\n",
       "      <td>84</td>\n",
       "      <td>5728</td>\n",
       "      <td>False</td>\n",
       "      <td>2021-02-10 23:53:17</td>\n",
       "      <td>&amp;lt;'fire' &amp;amp; 'man'&amp;gt;\\n#Bitcoin #Crypto #...</td>\n",
       "      <td>['Bitcoin', 'Crypto', 'BTC']</td>\n",
       "      <td>BTC_p_bot</td>\n",
       "      <td>False</td>\n",
       "    </tr>\n",
       "    <tr>\n",
       "      <th>9</th>\n",
       "      <td>DeSota Wilson</td>\n",
       "      <td>Atlanta, GA</td>\n",
       "      <td>Biz Consultant, real estate, fintech, startups...</td>\n",
       "      <td>2009-04-26 20:05:09</td>\n",
       "      <td>8534.0</td>\n",
       "      <td>7605</td>\n",
       "      <td>4838</td>\n",
       "      <td>False</td>\n",
       "      <td>2021-02-10 23:52:08</td>\n",
       "      <td>.@Tesla’s #bitcoin investment is revolutionary...</td>\n",
       "      <td>['bitcoin', 'crypto']</td>\n",
       "      <td>Twitter Web App</td>\n",
       "      <td>False</td>\n",
       "    </tr>\n",
       "    <tr>\n",
       "      <th>...</th>\n",
       "      <td>...</td>\n",
       "      <td>...</td>\n",
       "      <td>...</td>\n",
       "      <td>...</td>\n",
       "      <td>...</td>\n",
       "      <td>...</td>\n",
       "      <td>...</td>\n",
       "      <td>...</td>\n",
       "      <td>...</td>\n",
       "      <td>...</td>\n",
       "      <td>...</td>\n",
       "      <td>...</td>\n",
       "      <td>...</td>\n",
       "    </tr>\n",
       "    <tr>\n",
       "      <th>2259781</th>\n",
       "      <td>Bitcoin⚡️</td>\n",
       "      <td>Blockchain</td>\n",
       "      <td>A #Bitcoin pleb who likes to tweet about #Bitc...</td>\n",
       "      <td>2021-04-16 19:51:49</td>\n",
       "      <td>241.0</td>\n",
       "      <td>189</td>\n",
       "      <td>236</td>\n",
       "      <td>False</td>\n",
       "      <td>2022-01-19 19:08:20</td>\n",
       "      <td>The latest #bitcoin block 719497 with 142 tran...</td>\n",
       "      <td>['bitcoin', 'Bitcoin', 'BTC', 'blockchain', 'a...</td>\n",
       "      <td>Bitcoin CMO</td>\n",
       "      <td>False</td>\n",
       "    </tr>\n",
       "    <tr>\n",
       "      <th>2259783</th>\n",
       "      <td>Jess Kesker💎</td>\n",
       "      <td>California, USA</td>\n",
       "      <td>“Everything is just a game”🌸</td>\n",
       "      <td>2010-08-20 20:58:36</td>\n",
       "      <td>144.0</td>\n",
       "      <td>341</td>\n",
       "      <td>5711</td>\n",
       "      <td>False</td>\n",
       "      <td>2022-01-19 19:08:16</td>\n",
       "      <td>#BTC even broke the $42,000 support. A clear b...</td>\n",
       "      <td>['BTC']</td>\n",
       "      <td>Twitter Web App</td>\n",
       "      <td>False</td>\n",
       "    </tr>\n",
       "    <tr>\n",
       "      <th>2259785</th>\n",
       "      <td>mr. decentralized</td>\n",
       "      <td>World</td>\n",
       "      <td>the decentralized is here. Now\\n\\nHODL #LUNA #...</td>\n",
       "      <td>2021-12-23 00:46:49</td>\n",
       "      <td>36.0</td>\n",
       "      <td>206</td>\n",
       "      <td>207</td>\n",
       "      <td>False</td>\n",
       "      <td>2022-01-19 19:08:02</td>\n",
       "      <td>The agitation at these price levels is unwarra...</td>\n",
       "      <td>['cryptocurrency', 'cryptocrash', 'BTC', 'Ethe...</td>\n",
       "      <td>Twitter Web App</td>\n",
       "      <td>False</td>\n",
       "    </tr>\n",
       "    <tr>\n",
       "      <th>2259786</th>\n",
       "      <td>HODL Smaug</td>\n",
       "      <td>Lonely Montain</td>\n",
       "      <td>HODLing the $BTC Hoard since 2012. Trader / De...</td>\n",
       "      <td>2021-05-10 01:18:39</td>\n",
       "      <td>19.0</td>\n",
       "      <td>343</td>\n",
       "      <td>112</td>\n",
       "      <td>False</td>\n",
       "      <td>2022-01-19 19:07:54</td>\n",
       "      <td>Wake me when it's over. #Crypto #btc #Ethereum</td>\n",
       "      <td>['Crypto', 'btc', 'Ethereum']</td>\n",
       "      <td>Twitter Web App</td>\n",
       "      <td>False</td>\n",
       "    </tr>\n",
       "    <tr>\n",
       "      <th>2259787</th>\n",
       "      <td>S O H E i L</td>\n",
       "      <td>iran</td>\n",
       "      <td>Graphic Designer in https://t.co/W2ZPgN32AO\\n#...</td>\n",
       "      <td>2012-11-19 10:38:46</td>\n",
       "      <td>845.0</td>\n",
       "      <td>207</td>\n",
       "      <td>24205</td>\n",
       "      <td>False</td>\n",
       "      <td>2022-01-19 19:07:52</td>\n",
       "      <td>#ElSalvador, the first country to make #Bitcoi...</td>\n",
       "      <td>['ElSalvador', 'Bitcoin', 'BTC', 'BTCwallet', ...</td>\n",
       "      <td>Twitter Web App</td>\n",
       "      <td>False</td>\n",
       "    </tr>\n",
       "  </tbody>\n",
       "</table>\n",
       "<p>1104732 rows × 13 columns</p>\n",
       "</div>"
      ],
      "text/plain": [
       "                                        user_name    user_location  \\\n",
       "0                                   DeSota Wilson      Atlanta, GA   \n",
       "4        Alex Kirchmaier 🇦🇹🇸🇪 #FactsSuperspreader           Europa   \n",
       "5                             ZerrBenz™ ⚔ ✪ 20732    Bkk, Thailand   \n",
       "6                                     Bitcoin-Bot     Florida, USA   \n",
       "9                                   DeSota Wilson      Atlanta, GA   \n",
       "...                                           ...              ...   \n",
       "2259781                                 Bitcoin⚡️       Blockchain   \n",
       "2259783                              Jess Kesker💎  California, USA   \n",
       "2259785                         mr. decentralized           World    \n",
       "2259786                                HODL Smaug   Lonely Montain   \n",
       "2259787                               S O H E i L             iran   \n",
       "\n",
       "                                          user_description  \\\n",
       "0        Biz Consultant, real estate, fintech, startups...   \n",
       "4        Co-founder @RENJERJerky | Forbes 30Under30 | I...   \n",
       "5        I'm a cat slave 🐱 Interested in Blockchain · T...   \n",
       "6        Bot to generate Bitcoin picture as combination...   \n",
       "9        Biz Consultant, real estate, fintech, startups...   \n",
       "...                                                    ...   \n",
       "2259781  A #Bitcoin pleb who likes to tweet about #Bitc...   \n",
       "2259783                       “Everything is just a game”🌸   \n",
       "2259785  the decentralized is here. Now\\n\\nHODL #LUNA #...   \n",
       "2259786  HODLing the $BTC Hoard since 2012. Trader / De...   \n",
       "2259787  Graphic Designer in https://t.co/W2ZPgN32AO\\n#...   \n",
       "\n",
       "                user_created  user_followers user_friends user_favourites  \\\n",
       "0        2009-04-26 20:05:09          8534.0         7605            4838   \n",
       "4        2016-02-03 13:15:55          1249.0         1472           10482   \n",
       "5        2010-01-12 07:00:04           742.0          716            2444   \n",
       "6        2019-12-23 16:49:16           131.0           84            5728   \n",
       "9        2009-04-26 20:05:09          8534.0         7605            4838   \n",
       "...                      ...             ...          ...             ...   \n",
       "2259781  2021-04-16 19:51:49           241.0          189             236   \n",
       "2259783  2010-08-20 20:58:36           144.0          341            5711   \n",
       "2259785  2021-12-23 00:46:49            36.0          206             207   \n",
       "2259786  2021-05-10 01:18:39            19.0          343             112   \n",
       "2259787  2012-11-19 10:38:46           845.0          207           24205   \n",
       "\n",
       "        user_verified                 date  \\\n",
       "0               False  2021-02-10 23:59:04   \n",
       "4               False  2021-02-10 23:54:06   \n",
       "5               False  2021-02-10 23:53:30   \n",
       "6               False  2021-02-10 23:53:17   \n",
       "9               False  2021-02-10 23:52:08   \n",
       "...               ...                  ...   \n",
       "2259781         False  2022-01-19 19:08:20   \n",
       "2259783         False  2022-01-19 19:08:16   \n",
       "2259785         False  2022-01-19 19:08:02   \n",
       "2259786         False  2022-01-19 19:07:54   \n",
       "2259787         False  2022-01-19 19:07:52   \n",
       "\n",
       "                                                      text  \\\n",
       "0        Blue Ridge Bank shares halted by NYSE after #b...   \n",
       "4        This network is secured by 9 508 nodes as of t...   \n",
       "5        💹 Trade #Crypto on #Binance \\n\\n📌 Enjoy #Cashb...   \n",
       "6        &lt;'fire' &amp; 'man'&gt;\\n#Bitcoin #Crypto #...   \n",
       "9        .@Tesla’s #bitcoin investment is revolutionary...   \n",
       "...                                                    ...   \n",
       "2259781  The latest #bitcoin block 719497 with 142 tran...   \n",
       "2259783  #BTC even broke the $42,000 support. A clear b...   \n",
       "2259785  The agitation at these price levels is unwarra...   \n",
       "2259786     Wake me when it's over. #Crypto #btc #Ethereum   \n",
       "2259787  #ElSalvador, the first country to make #Bitcoi...   \n",
       "\n",
       "                                                  hashtags           source  \\\n",
       "0                                              ['bitcoin']  Twitter Web App   \n",
       "4                                                  ['BTC']  Twitter Web App   \n",
       "5                        ['Crypto', 'Binance', 'Cashback']  Twitter Web App   \n",
       "6                             ['Bitcoin', 'Crypto', 'BTC']        BTC_p_bot   \n",
       "9                                    ['bitcoin', 'crypto']  Twitter Web App   \n",
       "...                                                    ...              ...   \n",
       "2259781  ['bitcoin', 'Bitcoin', 'BTC', 'blockchain', 'a...      Bitcoin CMO   \n",
       "2259783                                            ['BTC']  Twitter Web App   \n",
       "2259785  ['cryptocurrency', 'cryptocrash', 'BTC', 'Ethe...  Twitter Web App   \n",
       "2259786                      ['Crypto', 'btc', 'Ethereum']  Twitter Web App   \n",
       "2259787  ['ElSalvador', 'Bitcoin', 'BTC', 'BTCwallet', ...  Twitter Web App   \n",
       "\n",
       "        is_retweet  \n",
       "0            False  \n",
       "4            False  \n",
       "5            False  \n",
       "6            False  \n",
       "9            False  \n",
       "...            ...  \n",
       "2259781      False  \n",
       "2259783      False  \n",
       "2259785      False  \n",
       "2259786      False  \n",
       "2259787      False  \n",
       "\n",
       "[1104732 rows x 13 columns]"
      ]
     },
     "execution_count": 6,
     "metadata": {},
     "output_type": "execute_result"
    }
   ],
   "source": [
    "df.drop_duplicates()"
   ]
  },
  {
   "cell_type": "markdown",
   "id": "888d8dd4",
   "metadata": {},
   "source": [
    "Let's cleans and preprocesses a random 1% sample of a dataset by removing unwanted elements from the text data (hashtags, URLs, and mentions)"
   ]
  },
  {
   "cell_type": "code",
   "execution_count": 7,
   "id": "150deca0",
   "metadata": {},
   "outputs": [
    {
     "name": "stderr",
     "output_type": "stream",
     "text": [
      "<>:8: SyntaxWarning: invalid escape sequence '\\w'\n",
      "<>:8: SyntaxWarning: invalid escape sequence '\\w'\n",
      "C:\\Users\\USER\\AppData\\Local\\Temp\\ipykernel_7440\\2305903869.py:8: SyntaxWarning: invalid escape sequence '\\w'\n",
      "  text = re.sub('https?://(?:[-\\w.]|(?:%[\\da-fA-F]{2}))+', '', text, flags=re.MULTILINE)\n",
      "100%|██████████| 11047/11047 [00:02<00:00, 4145.30it/s]\n"
     ]
    }
   ],
   "source": [
    "# clean df \n",
    "df_raw = df.sort_values(by = 'date')\n",
    "dd = df_raw.sample(frac=0.01, replace=False, random_state=1)\n",
    "dd.reset_index(inplace=True)\n",
    "for i,s in enumerate(tqdm(dd['text'],position=0, leave=True)):\n",
    "    text = str(dd.loc[i, 'text'])\n",
    "    text = text.replace(\"#\", \"\")\n",
    "    text = re.sub('https?://(?:[-\\w.]|(?:%[\\da-fA-F]{2}))+', '', text, flags=re.MULTILINE)\n",
    "    text = re.sub('@\\\\w+ *', '', text, flags=re.MULTILINE)\n",
    "    dd.loc[i, 'text'] = text\n",
    "# save to new csv file\n",
    "dd.to_csv('cleaned_file.csv', header=True, encoding='utf-8',index=False)"
   ]
  },
  {
   "cell_type": "markdown",
   "id": "cd1e896a",
   "metadata": {},
   "source": [
    "Load cleaned dataset"
   ]
  },
  {
   "cell_type": "code",
   "execution_count": 8,
   "id": "eab19e17",
   "metadata": {},
   "outputs": [],
   "source": [
    "df_clean = pd.read_csv('cleaned_file.csv')"
   ]
  },
  {
   "cell_type": "code",
   "execution_count": 9,
   "id": "11733697",
   "metadata": {},
   "outputs": [
    {
     "data": {
      "text/plain": [
       "index               0\n",
       "user_name           0\n",
       "user_location       0\n",
       "user_description    0\n",
       "user_created        0\n",
       "user_followers      0\n",
       "user_friends        0\n",
       "user_favourites     0\n",
       "user_verified       0\n",
       "date                0\n",
       "text                0\n",
       "hashtags            0\n",
       "source              0\n",
       "is_retweet          0\n",
       "dtype: int64"
      ]
     },
     "execution_count": 9,
     "metadata": {},
     "output_type": "execute_result"
    }
   ],
   "source": [
    "df_clean.isnull().sum()"
   ]
  },
  {
   "cell_type": "code",
   "execution_count": 10,
   "id": "a65c4730",
   "metadata": {},
   "outputs": [
    {
     "data": {
      "text/plain": [
       "(11047, 14)"
      ]
     },
     "execution_count": 10,
     "metadata": {},
     "output_type": "execute_result"
    }
   ],
   "source": [
    "df_clean.shape"
   ]
  },
  {
   "cell_type": "markdown",
   "id": "72670acb",
   "metadata": {},
   "source": [
    "Add Sentiment Column for further analysis"
   ]
  },
  {
   "cell_type": "code",
   "execution_count": 11,
   "id": "ff622e6a",
   "metadata": {},
   "outputs": [],
   "source": [
    "# add sentiment column\n",
    "df_clean['sentiment'] = ''"
   ]
  },
  {
   "cell_type": "markdown",
   "id": "63f57812",
   "metadata": {},
   "source": [
    "## Data Preprocessing"
   ]
  },
  {
   "cell_type": "markdown",
   "id": "02d71021",
   "metadata": {},
   "source": [
    "## Tokenization"
   ]
  },
  {
   "cell_type": "markdown",
   "id": "4cd6764c",
   "metadata": {},
   "source": [
    "Word tokenize"
   ]
  },
  {
   "cell_type": "code",
   "execution_count": 15,
   "id": "4e924f1d",
   "metadata": {},
   "outputs": [
    {
     "data": {
      "text/plain": [
       "0                                                                                                                      [I, especially, like, where, they, put, energy, used, by, BTC, mining, and, transactions, in, perspective, ., More, and, more, of, the, industry, is, green, energy]\n",
       "1                                                      [The, next, moon, trip, Is, scheduled, with, $, GREEN, 500, %, APY, for, 30, day, stake, LFG, !, !, !, GREENCHARTARMY, 🔥🚀🌑, (, It, 's, not, too, late, !, ), BSC, CRYPTO, PANCAKESWAP, BNB, BTC, BSCGem, GREENCHARTbsc, /FMiHgeUuW0]\n",
       "2                                             [Top, Trending, Cryptocurrency, Post, -, A, COUP, brought, me, to, Crypto, world, ., Now, I, stayed, as, a, believer, because, it, can, help, my, country, in, so, many, ways, via, /r/PaintingTheTape, /VFp7w4Ku9h, Cryptocurrency, Bitcoin]\n",
       "3    [Crypto, Prices, (, USD/₿, ), Bitcoin, ⇨, $, 61413.7073➷, AxieInfinity, ⇨, $, 162.1817➶, VeChain, ⇨, $, 0.158➷, EthereumClassic, ⇨, $, 47.2276➷, InternetComputer, ⇨, $, 48.7601➷, EOS, ⇨, $, 4.4415➷, Crypto, Bitcoin, AxieInfinity, VeChain, EthereumClassic, InternetComputer, EOS]\n",
       "4                                                                                                                                                                                                                                   [Bitcoin, Fear, and, Greed, Index, is, 71, /pXkA6O5Vmq]\n",
       "Name: tokens, dtype: object"
      ]
     },
     "execution_count": 15,
     "metadata": {},
     "output_type": "execute_result"
    }
   ],
   "source": [
    "pd.set_option('display.max_colwidth', None)\n",
    "df_clean['tokens'] = df_clean['text'].apply(word_tokenize)\n",
    "df_clean['tokens'].head()"
   ]
  },
  {
   "cell_type": "markdown",
   "id": "0028638f",
   "metadata": {},
   "source": [
    "Sentence tokenize"
   ]
  },
  {
   "cell_type": "code",
   "execution_count": 16,
   "id": "aa9aad19",
   "metadata": {},
   "outputs": [
    {
     "data": {
      "text/plain": [
       "0                                                                                                              [I especially like where they put energy used by BTC mining and transactions in perspective., More and more of the industry is green energy]\n",
       "1                                                                [The next moon trip Is scheduled with $GREEN 500% APY for 30 day stake LFG!!!, GREENCHARTARMY 🔥🚀🌑 (It's not too late!), BSC CRYPTO PANCAKESWAP BNB  BTC  BSCGem GREENCHARTbsc /FMiHgeUuW0]\n",
       "2                                              [Top Trending Cryptocurrency Post - A COUP brought me to Crypto world., Now I stayed as a believer because it can help my country in so many ways via /r/PaintingTheTape /VFp7w4Ku9h Cryptocurrency Bitcoin]\n",
       "3    [Crypto Prices (USD/₿)\\n\\nBitcoin ⇨ $61413.7073➷\\nAxieInfinity ⇨ $162.1817➶\\nVeChain ⇨ $0.158➷\\nEthereumClassic ⇨ $47.2276➷\\nInternetComputer ⇨ $48.7601➷\\nEOS ⇨ $4.4415➷\\n\\nCrypto Bitcoin AxieInfinity VeChain EthereumClassic InternetComputer EOS]\n",
       "4                                                                                                                                                                                                          [Bitcoin Fear and Greed Index is 71 /pXkA6O5Vmq]\n",
       "Name: senttokens, dtype: object"
      ]
     },
     "execution_count": 16,
     "metadata": {},
     "output_type": "execute_result"
    }
   ],
   "source": [
    "df_clean['senttokens'] = df_clean['text'].apply(sent_tokenize)\n",
    "df_clean['senttokens'].head()"
   ]
  },
  {
   "cell_type": "markdown",
   "id": "e94d559c",
   "metadata": {},
   "source": [
    "STEMMING & LEMMATIZATION"
   ]
  },
  {
   "cell_type": "code",
   "execution_count": 17,
   "id": "f076b969",
   "metadata": {},
   "outputs": [
    {
     "data": {
      "text/plain": [
       "0                                                                                                              i especially like where they put energy used by btc mining and transactions in perspective. more and more of the industry is green energi\n",
       "1                                                                the next moon trip is scheduled with $green 500% apy for 30 day stake lfg!!!\\ngreenchartarmy 🔥🚀🌑 (it's not too late!) bsc crypto pancakeswap bnb  btc  bscgem greenchartbsc /fmihgeuuw0\n",
       "2                                              top trending cryptocurrency post - a coup brought me to crypto world. now i stayed as a believer because it can help my country in so many ways via /r/paintingthetape /vfp7w4ku9h cryptocurrency bitcoin\n",
       "3    crypto prices (usd/₿)\\n\\nbitcoin ⇨ $61413.7073➷\\naxieinfinity ⇨ $162.1817➶\\nvechain ⇨ $0.158➷\\nethereumclassic ⇨ $47.2276➷\\ninternetcomputer ⇨ $48.7601➷\\neos ⇨ $4.4415➷\\n\\ncrypto bitcoin axieinfinity vechain ethereumclassic internetcomputer eo\n",
       "4                                                                                                                                                                                                         bitcoin fear and greed index is 71 /pxka6o5vmq\n",
       "Name: stemmed_tokens, dtype: object"
      ]
     },
     "execution_count": 17,
     "metadata": {},
     "output_type": "execute_result"
    }
   ],
   "source": [
    "stemmer = PorterStemmer()\n",
    "df_clean['stemmed_tokens'] = df_clean['text'].apply(stemmer.stem)\n",
    "df_clean['stemmed_tokens'].head()"
   ]
  },
  {
   "cell_type": "code",
   "execution_count": 18,
   "id": "889a52c2",
   "metadata": {},
   "outputs": [
    {
     "data": {
      "text/plain": [
       "0                                                                                                               I especially like where they put energy used by BTC mining and transactions in perspective. More and more of the industry is green energy\n",
       "1                                                                 The next moon trip Is scheduled with $GREEN 500% APY for 30 day stake LFG!!!\\nGREENCHARTARMY 🔥🚀🌑 (It's not too late!) BSC CRYPTO PANCAKESWAP BNB  BTC  BSCGem GREENCHARTbsc /FMiHgeUuW0\n",
       "2                                               Top Trending Cryptocurrency Post - A COUP brought me to Crypto world. Now I stayed as a believer because it can help my country in so many ways via /r/PaintingTheTape /VFp7w4Ku9h Cryptocurrency Bitcoin\n",
       "3    Crypto Prices (USD/₿)\\n\\nBitcoin ⇨ $61413.7073➷\\nAxieInfinity ⇨ $162.1817➶\\nVeChain ⇨ $0.158➷\\nEthereumClassic ⇨ $47.2276➷\\nInternetComputer ⇨ $48.7601➷\\nEOS ⇨ $4.4415➷\\n\\nCrypto Bitcoin AxieInfinity VeChain EthereumClassic InternetComputer EOS\n",
       "4                                                                                                                                                                                                          Bitcoin Fear and Greed Index is 71 /pXkA6O5Vmq\n",
       "Name: lemmatized_tokens, dtype: object"
      ]
     },
     "execution_count": 18,
     "metadata": {},
     "output_type": "execute_result"
    }
   ],
   "source": [
    "lemmatizer = WordNetLemmatizer()\n",
    "df_clean['lemmatized_tokens'] = df_clean['text'].apply(lemmatizer.lemmatize)\n",
    "df_clean['lemmatized_tokens'].head()"
   ]
  },
  {
   "cell_type": "markdown",
   "id": "46cf1aed",
   "metadata": {},
   "source": [
    "Part of Speech Tagging"
   ]
  },
  {
   "cell_type": "code",
   "execution_count": 19,
   "id": "fac14ab9",
   "metadata": {},
   "outputs": [
    {
     "name": "stdout",
     "output_type": "stream",
     "text": [
      "                                                                                                                                                                                                                                                   text  \\\n",
      "0                                                                                                             I especially like where they put energy used by BTC mining and transactions in perspective. More and more of the industry is green energy   \n",
      "1                                                               The next moon trip Is scheduled with $GREEN 500% APY for 30 day stake LFG!!!\\nGREENCHARTARMY 🔥🚀🌑 (It's not too late!) BSC CRYPTO PANCAKESWAP BNB  BTC  BSCGem GREENCHARTbsc /FMiHgeUuW0   \n",
      "2                                             Top Trending Cryptocurrency Post - A COUP brought me to Crypto world. Now I stayed as a believer because it can help my country in so many ways via /r/PaintingTheTape /VFp7w4Ku9h Cryptocurrency Bitcoin   \n",
      "3  Crypto Prices (USD/₿)\\n\\nBitcoin ⇨ $61413.7073➷\\nAxieInfinity ⇨ $162.1817➶\\nVeChain ⇨ $0.158➷\\nEthereumClassic ⇨ $47.2276➷\\nInternetComputer ⇨ $48.7601➷\\nEOS ⇨ $4.4415➷\\n\\nCrypto Bitcoin AxieInfinity VeChain EthereumClassic InternetComputer EOS   \n",
      "4                                                                                                                                                                                                        Bitcoin Fear and Greed Index is 71 /pXkA6O5Vmq   \n",
      "\n",
      "                                                                                                                                                                                                                                                                                                                                                                                                                                                                                                                      pos_tags  \n",
      "0                                                                                                                                                                                          [(I, PRP), (especially, RB), (like, IN), (where, WRB), (they, PRP), (put, VBD), (energy, NN), (used, VBN), (by, IN), (BTC, NNP), (mining, NN), (and, CC), (transactions, NNS), (in, IN), (perspective, NN), (., .), (More, JJR), (and, CC), (more, JJR), (of, IN), (the, DT), (industry, NN), (is, VBZ), (green, JJ), (energy, NN)]  \n",
      "1                                             [(The, DT), (next, JJ), (moon, NN), (trip, NN), (Is, NNP), (scheduled, VBN), (with, IN), ($, $), (GREEN, JJ), (500, CD), (%, NN), (APY, NNP), (for, IN), (30, CD), (day, NN), (stake, NN), (LFG, NNP), (!, .), (!, .), (!, .), (GREENCHARTARMY, NNP), (🔥🚀🌑, NNP), ((, (), (It, PRP), ('s, VBZ), (not, RB), (too, RB), (late, JJ), (!, .), (), )), (BSC, NNP), (CRYPTO, NNP), (PANCAKESWAP, NNP), (BNB, NNP), (BTC, NNP), (BSCGem, NNP), (GREENCHARTbsc, NNP), (/FMiHgeUuW0, NN)]  \n",
      "2                                                      [(Top, JJ), (Trending, NNP), (Cryptocurrency, NNP), (Post, NNP), (-, :), (A, DT), (COUP, NNP), (brought, VBD), (me, PRP), (to, TO), (Crypto, NNP), (world, NN), (., .), (Now, RB), (I, PRP), (stayed, VBD), (as, IN), (a, DT), (believer, NN), (because, IN), (it, PRP), (can, MD), (help, VB), (my, PRP$), (country, NN), (in, IN), (so, RB), (many, JJ), (ways, NNS), (via, IN), (/r/PaintingTheTape, NN), (/VFp7w4Ku9h, NNP), (Cryptocurrency, NNP), (Bitcoin, NNP)]  \n",
      "3  [(Crypto, NN), (Prices, NNS), ((, (), (USD/₿, NNP), (), )), (Bitcoin, NNP), (⇨, NNP), ($, $), (61413.7073➷, CD), (AxieInfinity, NNP), (⇨, NNP), ($, $), (162.1817➶, CD), (VeChain, NNP), (⇨, NNP), ($, $), (0.158➷, CD), (EthereumClassic, NNP), (⇨, NNP), ($, $), (47.2276➷, CD), (InternetComputer, NNP), (⇨, NNP), ($, $), (48.7601➷, CD), (EOS, NNP), (⇨, NNP), ($, $), (4.4415➷, CD), (Crypto, NNP), (Bitcoin, NNP), (AxieInfinity, NNP), (VeChain, NNP), (EthereumClassic, NNP), (InternetComputer, NNP), (EOS, NNP)]  \n",
      "4                                                                                                                                                                                                                                                                                                                                                                                                                 [(Bitcoin, NNP), (Fear, NNP), (and, CC), (Greed, NNP), (Index, NNP), (is, VBZ), (71, CD), (/pXkA6O5Vmq, NN)]  \n"
     ]
    }
   ],
   "source": [
    "texts = df_clean['text'].astype(str)\n",
    "def get_pos_tags(text):\n",
    "    tokens = nltk.word_tokenize(text)\n",
    "    pos_tags = nltk.pos_tag(tokens)\n",
    "    return pos_tags\n",
    "df_clean['pos_tags'] = texts.apply(get_pos_tags)\n",
    "print(df_clean[['text', 'pos_tags']].head())"
   ]
  },
  {
   "cell_type": "markdown",
   "id": "354dab16",
   "metadata": {},
   "source": [
    "Stop Word Removal"
   ]
  },
  {
   "cell_type": "code",
   "execution_count": 20,
   "id": "f735e5d9",
   "metadata": {},
   "outputs": [
    {
     "name": "stdout",
     "output_type": "stream",
     "text": [
      "                                                                                                                                                                                                                                                   text  \\\n",
      "0                                                                                                             I especially like where they put energy used by BTC mining and transactions in perspective. More and more of the industry is green energy   \n",
      "1                                                               The next moon trip Is scheduled with $GREEN 500% APY for 30 day stake LFG!!!\\nGREENCHARTARMY 🔥🚀🌑 (It's not too late!) BSC CRYPTO PANCAKESWAP BNB  BTC  BSCGem GREENCHARTbsc /FMiHgeUuW0   \n",
      "2                                             Top Trending Cryptocurrency Post - A COUP brought me to Crypto world. Now I stayed as a believer because it can help my country in so many ways via /r/PaintingTheTape /VFp7w4Ku9h Cryptocurrency Bitcoin   \n",
      "3  Crypto Prices (USD/₿)\\n\\nBitcoin ⇨ $61413.7073➷\\nAxieInfinity ⇨ $162.1817➶\\nVeChain ⇨ $0.158➷\\nEthereumClassic ⇨ $47.2276➷\\nInternetComputer ⇨ $48.7601➷\\nEOS ⇨ $4.4415➷\\n\\nCrypto Bitcoin AxieInfinity VeChain EthereumClassic InternetComputer EOS   \n",
      "4                                                                                                                                                                                                        Bitcoin Fear and Greed Index is 71 /pXkA6O5Vmq   \n",
      "\n",
      "                                                                                                                                                                                                                                   text_no_stopwords  \n",
      "0                                                                                                                                                        especially like put energy used BTC mining transactions perspective . industry green energy  \n",
      "1                                                                                 next moon trip scheduled $ GREEN 500 % APY 30 day stake LFG ! ! ! GREENCHARTARMY 🔥🚀🌑 ( 's late ! ) BSC CRYPTO PANCAKESWAP BNB BTC BSCGem GREENCHARTbsc /FMiHgeUuW0  \n",
      "2                                                                                    Top Trending Cryptocurrency Post - COUP brought Crypto world . stayed believer help country many ways via /r/PaintingTheTape /VFp7w4Ku9h Cryptocurrency Bitcoin  \n",
      "3  Crypto Prices ( USD/₿ ) Bitcoin ⇨ $ 61413.7073➷ AxieInfinity ⇨ $ 162.1817➶ VeChain ⇨ $ 0.158➷ EthereumClassic ⇨ $ 47.2276➷ InternetComputer ⇨ $ 48.7601➷ EOS ⇨ $ 4.4415➷ Crypto Bitcoin AxieInfinity VeChain EthereumClassic InternetComputer EOS  \n",
      "4                                                                                                                                                                                                            Bitcoin Fear Greed Index 71 /pXkA6O5Vmq  \n"
     ]
    }
   ],
   "source": [
    "stop_words = set(stopwords.words('english'))\n",
    "\n",
    "def remove_stopwords(text):\n",
    "    tokens = word_tokenize(text)\n",
    "    filtered = [word for word in tokens if word.lower() not in stop_words]\n",
    "    return ' '.join(filtered)\n",
    "\n",
    "df_clean['text_no_stopwords'] = texts.apply(remove_stopwords)\n",
    "print(df_clean[['text', 'text_no_stopwords']].head())"
   ]
  },
  {
   "cell_type": "markdown",
   "id": "0bbfaf03",
   "metadata": {},
   "source": [
    "Text Cleaning "
   ]
  },
  {
   "cell_type": "code",
   "execution_count": 21,
   "id": "b7924999",
   "metadata": {},
   "outputs": [],
   "source": [
    "nlp = spacy.load(\"en_core_web_sm\")\n",
    "# ==== TEXT CLEANING ====\n",
    "stop_words = set(stopwords.words('english'))\n",
    "\n",
    "def clean_text(text):\n",
    "    text = text.lower()\n",
    "    text = re.sub(r\"http\\\\S+|www\\\\S+|https\\\\S+\", '', text)\n",
    "    text = re.sub(r\"[^a-z\\\\s]\", '', text)\n",
    "    doc = nlp(text)\n",
    "    tokens = [token.lemma_ for token in doc if token.text not in stop_words and not token.is_stop]\n",
    "    return ' '.join(tokens)\n",
    "\n",
    "df_clean['cleaned_text'] = df_clean['text'].apply(clean_text)\n"
   ]
  },
  {
   "cell_type": "code",
   "execution_count": 22,
   "id": "8534778a",
   "metadata": {},
   "outputs": [
    {
     "data": {
      "text/html": [
       "<div>\n",
       "<style scoped>\n",
       "    .dataframe tbody tr th:only-of-type {\n",
       "        vertical-align: middle;\n",
       "    }\n",
       "\n",
       "    .dataframe tbody tr th {\n",
       "        vertical-align: top;\n",
       "    }\n",
       "\n",
       "    .dataframe thead th {\n",
       "        text-align: right;\n",
       "    }\n",
       "</style>\n",
       "<table border=\"1\" class=\"dataframe\">\n",
       "  <thead>\n",
       "    <tr style=\"text-align: right;\">\n",
       "      <th></th>\n",
       "      <th>index</th>\n",
       "      <th>user_name</th>\n",
       "      <th>user_location</th>\n",
       "      <th>user_description</th>\n",
       "      <th>user_created</th>\n",
       "      <th>user_followers</th>\n",
       "      <th>user_friends</th>\n",
       "      <th>user_favourites</th>\n",
       "      <th>user_verified</th>\n",
       "      <th>date</th>\n",
       "      <th>...</th>\n",
       "      <th>source</th>\n",
       "      <th>is_retweet</th>\n",
       "      <th>sentiment</th>\n",
       "      <th>tokens</th>\n",
       "      <th>senttokens</th>\n",
       "      <th>stemmed_tokens</th>\n",
       "      <th>lemmatized_tokens</th>\n",
       "      <th>pos_tags</th>\n",
       "      <th>text_no_stopwords</th>\n",
       "      <th>cleaned_text</th>\n",
       "    </tr>\n",
       "  </thead>\n",
       "  <tbody>\n",
       "    <tr>\n",
       "      <th>0</th>\n",
       "      <td>2193115</td>\n",
       "      <td>Alaindrea (#3149)</td>\n",
       "      <td>Tacoma, WA</td>\n",
       "      <td>Follow for #Ethereum #Solana #IMX #NFT Follow if you want. Into game/utility NFTs.  HODLer. \\nPFP:Wizards Treasure Collective\\nBanner: Osiris Cosmic Kids</td>\n",
       "      <td>2011-07-19 18:25:20</td>\n",
       "      <td>408.0</td>\n",
       "      <td>1563.0</td>\n",
       "      <td>2711.0</td>\n",
       "      <td>False</td>\n",
       "      <td>2022-01-22 05:34:42</td>\n",
       "      <td>...</td>\n",
       "      <td>Twitter for Android</td>\n",
       "      <td>False</td>\n",
       "      <td></td>\n",
       "      <td>[I, especially, like, where, they, put, energy, used, by, BTC, mining, and, transactions, in, perspective, ., More, and, more, of, the, industry, is, green, energy]</td>\n",
       "      <td>[I especially like where they put energy used by BTC mining and transactions in perspective., More and more of the industry is green energy]</td>\n",
       "      <td>i especially like where they put energy used by btc mining and transactions in perspective. more and more of the industry is green energi</td>\n",
       "      <td>I especially like where they put energy used by BTC mining and transactions in perspective. More and more of the industry is green energy</td>\n",
       "      <td>[(I, PRP), (especially, RB), (like, IN), (where, WRB), (they, PRP), (put, VBD), (energy, NN), (used, VBN), (by, IN), (BTC, NNP), (mining, NN), (and, CC), (transactions, NNS), (in, IN), (perspective, NN), (., .), (More, JJR), (and, CC), (more, JJR), (of, IN), (the, DT), (industry, NN), (is, VBZ), (green, JJ), (energy, NN)]</td>\n",
       "      <td>especially like put energy used BTC mining transactions perspective . industry green energy</td>\n",
       "      <td>iespeciallylikewheretheyputenergyusedbybtcminingandtransactionsinperspectivemoreandmoreoftheindustryisgreenenergy</td>\n",
       "    </tr>\n",
       "    <tr>\n",
       "      <th>1</th>\n",
       "      <td>2024231</td>\n",
       "      <td>Josipa</td>\n",
       "      <td>Wien, Österreich</td>\n",
       "      <td>Crypto lover 🥰</td>\n",
       "      <td>2021-02-04 09:07:00</td>\n",
       "      <td>67.0</td>\n",
       "      <td>493.0</td>\n",
       "      <td>2583.0</td>\n",
       "      <td>False</td>\n",
       "      <td>2022-01-14 15:11:11</td>\n",
       "      <td>...</td>\n",
       "      <td>Twitter for iPhone</td>\n",
       "      <td>False</td>\n",
       "      <td></td>\n",
       "      <td>[The, next, moon, trip, Is, scheduled, with, $, GREEN, 500, %, APY, for, 30, day, stake, LFG, !, !, !, GREENCHARTARMY, 🔥🚀🌑, (, It, 's, not, too, late, !, ), BSC, CRYPTO, PANCAKESWAP, BNB, BTC, BSCGem, GREENCHARTbsc, /FMiHgeUuW0]</td>\n",
       "      <td>[The next moon trip Is scheduled with $GREEN 500% APY for 30 day stake LFG!!!, GREENCHARTARMY 🔥🚀🌑 (It's not too late!), BSC CRYPTO PANCAKESWAP BNB  BTC  BSCGem GREENCHARTbsc /FMiHgeUuW0]</td>\n",
       "      <td>the next moon trip is scheduled with $green 500% apy for 30 day stake lfg!!!\\ngreenchartarmy 🔥🚀🌑 (it's not too late!) bsc crypto pancakeswap bnb  btc  bscgem greenchartbsc /fmihgeuuw0</td>\n",
       "      <td>The next moon trip Is scheduled with $GREEN 500% APY for 30 day stake LFG!!!\\nGREENCHARTARMY 🔥🚀🌑 (It's not too late!) BSC CRYPTO PANCAKESWAP BNB  BTC  BSCGem GREENCHARTbsc /FMiHgeUuW0</td>\n",
       "      <td>[(The, DT), (next, JJ), (moon, NN), (trip, NN), (Is, NNP), (scheduled, VBN), (with, IN), ($, $), (GREEN, JJ), (500, CD), (%, NN), (APY, NNP), (for, IN), (30, CD), (day, NN), (stake, NN), (LFG, NNP), (!, .), (!, .), (!, .), (GREENCHARTARMY, NNP), (🔥🚀🌑, NNP), ((, (), (It, PRP), ('s, VBZ), (not, RB), (too, RB), (late, JJ), (!, .), (), )), (BSC, NNP), (CRYPTO, NNP), (PANCAKESWAP, NNP), (BNB, NNP), (BTC, NNP), (BSCGem, NNP), (GREENCHARTbsc, NNP), (/FMiHgeUuW0, NN)]</td>\n",
       "      <td>next moon trip scheduled $ GREEN 500 % APY 30 day stake LFG ! ! ! GREENCHARTARMY 🔥🚀🌑 ( 's late ! ) BSC CRYPTO PANCAKESWAP BNB BTC BSCGem GREENCHARTbsc /FMiHgeUuW0</td>\n",
       "      <td>thenextmoontripisscheduledwithgreenapyfordaystakelfggreenchartarmyitsnottoolatebsccryptopancakeswapbnbbtcbscgemgreenchartbscfmihgeuuw</td>\n",
       "    </tr>\n",
       "    <tr>\n",
       "      <th>2</th>\n",
       "      <td>325027</td>\n",
       "      <td>STRATO฿ITZ</td>\n",
       "      <td>USA</td>\n",
       "      <td>Digital Token Entrepreneur | Top Mod @ https://t.co/NpJOr6eIET | Legendary Bitcointalk Member since 2013</td>\n",
       "      <td>2014-04-25 19:40:15</td>\n",
       "      <td>468.0</td>\n",
       "      <td>111.0</td>\n",
       "      <td>1262.0</td>\n",
       "      <td>False</td>\n",
       "      <td>2021-07-03 04:37:20</td>\n",
       "      <td>...</td>\n",
       "      <td>IFTTT</td>\n",
       "      <td>False</td>\n",
       "      <td></td>\n",
       "      <td>[Top, Trending, Cryptocurrency, Post, -, A, COUP, brought, me, to, Crypto, world, ., Now, I, stayed, as, a, believer, because, it, can, help, my, country, in, so, many, ways, via, /r/PaintingTheTape, /VFp7w4Ku9h, Cryptocurrency, Bitcoin]</td>\n",
       "      <td>[Top Trending Cryptocurrency Post - A COUP brought me to Crypto world., Now I stayed as a believer because it can help my country in so many ways via /r/PaintingTheTape /VFp7w4Ku9h Cryptocurrency Bitcoin]</td>\n",
       "      <td>top trending cryptocurrency post - a coup brought me to crypto world. now i stayed as a believer because it can help my country in so many ways via /r/paintingthetape /vfp7w4ku9h cryptocurrency bitcoin</td>\n",
       "      <td>Top Trending Cryptocurrency Post - A COUP brought me to Crypto world. Now I stayed as a believer because it can help my country in so many ways via /r/PaintingTheTape /VFp7w4Ku9h Cryptocurrency Bitcoin</td>\n",
       "      <td>[(Top, JJ), (Trending, NNP), (Cryptocurrency, NNP), (Post, NNP), (-, :), (A, DT), (COUP, NNP), (brought, VBD), (me, PRP), (to, TO), (Crypto, NNP), (world, NN), (., .), (Now, RB), (I, PRP), (stayed, VBD), (as, IN), (a, DT), (believer, NN), (because, IN), (it, PRP), (can, MD), (help, VB), (my, PRP$), (country, NN), (in, IN), (so, RB), (many, JJ), (ways, NNS), (via, IN), (/r/PaintingTheTape, NN), (/VFp7w4Ku9h, NNP), (Cryptocurrency, NNP), (Bitcoin, NNP)]</td>\n",
       "      <td>Top Trending Cryptocurrency Post - COUP brought Crypto world . stayed believer help country many ways via /r/PaintingTheTape /VFp7w4Ku9h Cryptocurrency Bitcoin</td>\n",
       "      <td>toptrendingcryptocurrencypostacoupbroughtmetocryptoworldnowistayedasabelieverbecauseitcanhelpmycountryinsomanywaysviarpaintingthetapevfpwkuhcryptocurrencybitcoin</td>\n",
       "    </tr>\n",
       "    <tr>\n",
       "      <th>3</th>\n",
       "      <td>1586262</td>\n",
       "      <td>Successful Trading News</td>\n",
       "      <td>Arcata, CA</td>\n",
       "      <td>Profit with faster stock market news &amp; research\\nMuch More Info here - https://t.co/MFGWx972QJ</td>\n",
       "      <td>2020-05-16 17:43:41</td>\n",
       "      <td>229.0</td>\n",
       "      <td>276.0</td>\n",
       "      <td>517.0</td>\n",
       "      <td>False</td>\n",
       "      <td>2021-11-06 22:20:46</td>\n",
       "      <td>...</td>\n",
       "      <td>Divest Twitter Bot</td>\n",
       "      <td>False</td>\n",
       "      <td></td>\n",
       "      <td>[Crypto, Prices, (, USD/₿, ), Bitcoin, ⇨, $, 61413.7073➷, AxieInfinity, ⇨, $, 162.1817➶, VeChain, ⇨, $, 0.158➷, EthereumClassic, ⇨, $, 47.2276➷, InternetComputer, ⇨, $, 48.7601➷, EOS, ⇨, $, 4.4415➷, Crypto, Bitcoin, AxieInfinity, VeChain, EthereumClassic, InternetComputer, EOS]</td>\n",
       "      <td>[Crypto Prices (USD/₿)\\n\\nBitcoin ⇨ $61413.7073➷\\nAxieInfinity ⇨ $162.1817➶\\nVeChain ⇨ $0.158➷\\nEthereumClassic ⇨ $47.2276➷\\nInternetComputer ⇨ $48.7601➷\\nEOS ⇨ $4.4415➷\\n\\nCrypto Bitcoin AxieInfinity VeChain EthereumClassic InternetComputer EOS]</td>\n",
       "      <td>crypto prices (usd/₿)\\n\\nbitcoin ⇨ $61413.7073➷\\naxieinfinity ⇨ $162.1817➶\\nvechain ⇨ $0.158➷\\nethereumclassic ⇨ $47.2276➷\\ninternetcomputer ⇨ $48.7601➷\\neos ⇨ $4.4415➷\\n\\ncrypto bitcoin axieinfinity vechain ethereumclassic internetcomputer eo</td>\n",
       "      <td>Crypto Prices (USD/₿)\\n\\nBitcoin ⇨ $61413.7073➷\\nAxieInfinity ⇨ $162.1817➶\\nVeChain ⇨ $0.158➷\\nEthereumClassic ⇨ $47.2276➷\\nInternetComputer ⇨ $48.7601➷\\nEOS ⇨ $4.4415➷\\n\\nCrypto Bitcoin AxieInfinity VeChain EthereumClassic InternetComputer EOS</td>\n",
       "      <td>[(Crypto, NN), (Prices, NNS), ((, (), (USD/₿, NNP), (), )), (Bitcoin, NNP), (⇨, NNP), ($, $), (61413.7073➷, CD), (AxieInfinity, NNP), (⇨, NNP), ($, $), (162.1817➶, CD), (VeChain, NNP), (⇨, NNP), ($, $), (0.158➷, CD), (EthereumClassic, NNP), (⇨, NNP), ($, $), (47.2276➷, CD), (InternetComputer, NNP), (⇨, NNP), ($, $), (48.7601➷, CD), (EOS, NNP), (⇨, NNP), ($, $), (4.4415➷, CD), (Crypto, NNP), (Bitcoin, NNP), (AxieInfinity, NNP), (VeChain, NNP), (EthereumClassic, NNP), (InternetComputer, NNP), (EOS, NNP)]</td>\n",
       "      <td>Crypto Prices ( USD/₿ ) Bitcoin ⇨ $ 61413.7073➷ AxieInfinity ⇨ $ 162.1817➶ VeChain ⇨ $ 0.158➷ EthereumClassic ⇨ $ 47.2276➷ InternetComputer ⇨ $ 48.7601➷ EOS ⇨ $ 4.4415➷ Crypto Bitcoin AxieInfinity VeChain EthereumClassic InternetComputer EOS</td>\n",
       "      <td>cryptopricesusdbitcoinaxieinfinityvechainethereumclassicinternetcomputereoscryptobitcoinaxieinfinityvechainethereumclassicinternetcomputereo</td>\n",
       "    </tr>\n",
       "    <tr>\n",
       "      <th>4</th>\n",
       "      <td>1600722</td>\n",
       "      <td>CoinStoic 🌖</td>\n",
       "      <td>Washington, DC</td>\n",
       "      <td>Freedom.  Wisdom.  Crypto.  Travel.                                                                       \\n$LUNA $SOL $SPEC $ANC $MINE</td>\n",
       "      <td>2021-05-24 22:09:56</td>\n",
       "      <td>695.0</td>\n",
       "      <td>2331.0</td>\n",
       "      <td>12823.0</td>\n",
       "      <td>False</td>\n",
       "      <td>2021-11-06 13:02:12</td>\n",
       "      <td>...</td>\n",
       "      <td>Twitter for Android</td>\n",
       "      <td>False</td>\n",
       "      <td></td>\n",
       "      <td>[Bitcoin, Fear, and, Greed, Index, is, 71, /pXkA6O5Vmq]</td>\n",
       "      <td>[Bitcoin Fear and Greed Index is 71 /pXkA6O5Vmq]</td>\n",
       "      <td>bitcoin fear and greed index is 71 /pxka6o5vmq</td>\n",
       "      <td>Bitcoin Fear and Greed Index is 71 /pXkA6O5Vmq</td>\n",
       "      <td>[(Bitcoin, NNP), (Fear, NNP), (and, CC), (Greed, NNP), (Index, NNP), (is, VBZ), (71, CD), (/pXkA6O5Vmq, NN)]</td>\n",
       "      <td>Bitcoin Fear Greed Index 71 /pXkA6O5Vmq</td>\n",
       "      <td>bitcoinfearandgreedindexispxkaovmq</td>\n",
       "    </tr>\n",
       "  </tbody>\n",
       "</table>\n",
       "<p>5 rows × 22 columns</p>\n",
       "</div>"
      ],
      "text/plain": [
       "     index                user_name     user_location  \\\n",
       "0  2193115        Alaindrea (#3149)        Tacoma, WA   \n",
       "1  2024231                   Josipa  Wien, Österreich   \n",
       "2   325027               STRATO฿ITZ               USA   \n",
       "3  1586262  Successful Trading News        Arcata, CA   \n",
       "4  1600722              CoinStoic 🌖    Washington, DC   \n",
       "\n",
       "                                                                                                                                            user_description  \\\n",
       "0  Follow for #Ethereum #Solana #IMX #NFT Follow if you want. Into game/utility NFTs.  HODLer. \\nPFP:Wizards Treasure Collective\\nBanner: Osiris Cosmic Kids   \n",
       "1                                                                                                                                             Crypto lover 🥰   \n",
       "2                                                   Digital Token Entrepreneur | Top Mod @ https://t.co/NpJOr6eIET | Legendary Bitcointalk Member since 2013   \n",
       "3                                                             Profit with faster stock market news & research\\nMuch More Info here - https://t.co/MFGWx972QJ   \n",
       "4                    Freedom.  Wisdom.  Crypto.  Travel.                                                                       \\n$LUNA $SOL $SPEC $ANC $MINE   \n",
       "\n",
       "          user_created  user_followers  user_friends  user_favourites  \\\n",
       "0  2011-07-19 18:25:20           408.0        1563.0           2711.0   \n",
       "1  2021-02-04 09:07:00            67.0         493.0           2583.0   \n",
       "2  2014-04-25 19:40:15           468.0         111.0           1262.0   \n",
       "3  2020-05-16 17:43:41           229.0         276.0            517.0   \n",
       "4  2021-05-24 22:09:56           695.0        2331.0          12823.0   \n",
       "\n",
       "   user_verified                 date  ...               source is_retweet  \\\n",
       "0          False  2022-01-22 05:34:42  ...  Twitter for Android      False   \n",
       "1          False  2022-01-14 15:11:11  ...   Twitter for iPhone      False   \n",
       "2          False  2021-07-03 04:37:20  ...                IFTTT      False   \n",
       "3          False  2021-11-06 22:20:46  ...   Divest Twitter Bot      False   \n",
       "4          False  2021-11-06 13:02:12  ...  Twitter for Android      False   \n",
       "\n",
       "  sentiment  \\\n",
       "0             \n",
       "1             \n",
       "2             \n",
       "3             \n",
       "4             \n",
       "\n",
       "                                                                                                                                                                                                                                                                                   tokens  \\\n",
       "0                                                                                                                    [I, especially, like, where, they, put, energy, used, by, BTC, mining, and, transactions, in, perspective, ., More, and, more, of, the, industry, is, green, energy]   \n",
       "1                                                    [The, next, moon, trip, Is, scheduled, with, $, GREEN, 500, %, APY, for, 30, day, stake, LFG, !, !, !, GREENCHARTARMY, 🔥🚀🌑, (, It, 's, not, too, late, !, ), BSC, CRYPTO, PANCAKESWAP, BNB, BTC, BSCGem, GREENCHARTbsc, /FMiHgeUuW0]   \n",
       "2                                           [Top, Trending, Cryptocurrency, Post, -, A, COUP, brought, me, to, Crypto, world, ., Now, I, stayed, as, a, believer, because, it, can, help, my, country, in, so, many, ways, via, /r/PaintingTheTape, /VFp7w4Ku9h, Cryptocurrency, Bitcoin]   \n",
       "3  [Crypto, Prices, (, USD/₿, ), Bitcoin, ⇨, $, 61413.7073➷, AxieInfinity, ⇨, $, 162.1817➶, VeChain, ⇨, $, 0.158➷, EthereumClassic, ⇨, $, 47.2276➷, InternetComputer, ⇨, $, 48.7601➷, EOS, ⇨, $, 4.4415➷, Crypto, Bitcoin, AxieInfinity, VeChain, EthereumClassic, InternetComputer, EOS]   \n",
       "4                                                                                                                                                                                                                                 [Bitcoin, Fear, and, Greed, Index, is, 71, /pXkA6O5Vmq]   \n",
       "\n",
       "                                                                                                                                                                                                                                               senttokens  \\\n",
       "0                                                                                                            [I especially like where they put energy used by BTC mining and transactions in perspective., More and more of the industry is green energy]   \n",
       "1                                                              [The next moon trip Is scheduled with $GREEN 500% APY for 30 day stake LFG!!!, GREENCHARTARMY 🔥🚀🌑 (It's not too late!), BSC CRYPTO PANCAKESWAP BNB  BTC  BSCGem GREENCHARTbsc /FMiHgeUuW0]   \n",
       "2                                            [Top Trending Cryptocurrency Post - A COUP brought me to Crypto world., Now I stayed as a believer because it can help my country in so many ways via /r/PaintingTheTape /VFp7w4Ku9h Cryptocurrency Bitcoin]   \n",
       "3  [Crypto Prices (USD/₿)\\n\\nBitcoin ⇨ $61413.7073➷\\nAxieInfinity ⇨ $162.1817➶\\nVeChain ⇨ $0.158➷\\nEthereumClassic ⇨ $47.2276➷\\nInternetComputer ⇨ $48.7601➷\\nEOS ⇨ $4.4415➷\\n\\nCrypto Bitcoin AxieInfinity VeChain EthereumClassic InternetComputer EOS]   \n",
       "4                                                                                                                                                                                                        [Bitcoin Fear and Greed Index is 71 /pXkA6O5Vmq]   \n",
       "\n",
       "                                                                                                                                                                                                                                        stemmed_tokens  \\\n",
       "0                                                                                                            i especially like where they put energy used by btc mining and transactions in perspective. more and more of the industry is green energi   \n",
       "1                                                              the next moon trip is scheduled with $green 500% apy for 30 day stake lfg!!!\\ngreenchartarmy 🔥🚀🌑 (it's not too late!) bsc crypto pancakeswap bnb  btc  bscgem greenchartbsc /fmihgeuuw0   \n",
       "2                                            top trending cryptocurrency post - a coup brought me to crypto world. now i stayed as a believer because it can help my country in so many ways via /r/paintingthetape /vfp7w4ku9h cryptocurrency bitcoin   \n",
       "3  crypto prices (usd/₿)\\n\\nbitcoin ⇨ $61413.7073➷\\naxieinfinity ⇨ $162.1817➶\\nvechain ⇨ $0.158➷\\nethereumclassic ⇨ $47.2276➷\\ninternetcomputer ⇨ $48.7601➷\\neos ⇨ $4.4415➷\\n\\ncrypto bitcoin axieinfinity vechain ethereumclassic internetcomputer eo   \n",
       "4                                                                                                                                                                                                       bitcoin fear and greed index is 71 /pxka6o5vmq   \n",
       "\n",
       "                                                                                                                                                                                                                                      lemmatized_tokens  \\\n",
       "0                                                                                                             I especially like where they put energy used by BTC mining and transactions in perspective. More and more of the industry is green energy   \n",
       "1                                                               The next moon trip Is scheduled with $GREEN 500% APY for 30 day stake LFG!!!\\nGREENCHARTARMY 🔥🚀🌑 (It's not too late!) BSC CRYPTO PANCAKESWAP BNB  BTC  BSCGem GREENCHARTbsc /FMiHgeUuW0   \n",
       "2                                             Top Trending Cryptocurrency Post - A COUP brought me to Crypto world. Now I stayed as a believer because it can help my country in so many ways via /r/PaintingTheTape /VFp7w4Ku9h Cryptocurrency Bitcoin   \n",
       "3  Crypto Prices (USD/₿)\\n\\nBitcoin ⇨ $61413.7073➷\\nAxieInfinity ⇨ $162.1817➶\\nVeChain ⇨ $0.158➷\\nEthereumClassic ⇨ $47.2276➷\\nInternetComputer ⇨ $48.7601➷\\nEOS ⇨ $4.4415➷\\n\\nCrypto Bitcoin AxieInfinity VeChain EthereumClassic InternetComputer EOS   \n",
       "4                                                                                                                                                                                                        Bitcoin Fear and Greed Index is 71 /pXkA6O5Vmq   \n",
       "\n",
       "                                                                                                                                                                                                                                                                                                                                                                                                                                                                                                                      pos_tags  \\\n",
       "0                                                                                                                                                                                          [(I, PRP), (especially, RB), (like, IN), (where, WRB), (they, PRP), (put, VBD), (energy, NN), (used, VBN), (by, IN), (BTC, NNP), (mining, NN), (and, CC), (transactions, NNS), (in, IN), (perspective, NN), (., .), (More, JJR), (and, CC), (more, JJR), (of, IN), (the, DT), (industry, NN), (is, VBZ), (green, JJ), (energy, NN)]   \n",
       "1                                             [(The, DT), (next, JJ), (moon, NN), (trip, NN), (Is, NNP), (scheduled, VBN), (with, IN), ($, $), (GREEN, JJ), (500, CD), (%, NN), (APY, NNP), (for, IN), (30, CD), (day, NN), (stake, NN), (LFG, NNP), (!, .), (!, .), (!, .), (GREENCHARTARMY, NNP), (🔥🚀🌑, NNP), ((, (), (It, PRP), ('s, VBZ), (not, RB), (too, RB), (late, JJ), (!, .), (), )), (BSC, NNP), (CRYPTO, NNP), (PANCAKESWAP, NNP), (BNB, NNP), (BTC, NNP), (BSCGem, NNP), (GREENCHARTbsc, NNP), (/FMiHgeUuW0, NN)]   \n",
       "2                                                      [(Top, JJ), (Trending, NNP), (Cryptocurrency, NNP), (Post, NNP), (-, :), (A, DT), (COUP, NNP), (brought, VBD), (me, PRP), (to, TO), (Crypto, NNP), (world, NN), (., .), (Now, RB), (I, PRP), (stayed, VBD), (as, IN), (a, DT), (believer, NN), (because, IN), (it, PRP), (can, MD), (help, VB), (my, PRP$), (country, NN), (in, IN), (so, RB), (many, JJ), (ways, NNS), (via, IN), (/r/PaintingTheTape, NN), (/VFp7w4Ku9h, NNP), (Cryptocurrency, NNP), (Bitcoin, NNP)]   \n",
       "3  [(Crypto, NN), (Prices, NNS), ((, (), (USD/₿, NNP), (), )), (Bitcoin, NNP), (⇨, NNP), ($, $), (61413.7073➷, CD), (AxieInfinity, NNP), (⇨, NNP), ($, $), (162.1817➶, CD), (VeChain, NNP), (⇨, NNP), ($, $), (0.158➷, CD), (EthereumClassic, NNP), (⇨, NNP), ($, $), (47.2276➷, CD), (InternetComputer, NNP), (⇨, NNP), ($, $), (48.7601➷, CD), (EOS, NNP), (⇨, NNP), ($, $), (4.4415➷, CD), (Crypto, NNP), (Bitcoin, NNP), (AxieInfinity, NNP), (VeChain, NNP), (EthereumClassic, NNP), (InternetComputer, NNP), (EOS, NNP)]   \n",
       "4                                                                                                                                                                                                                                                                                                                                                                                                                 [(Bitcoin, NNP), (Fear, NNP), (and, CC), (Greed, NNP), (Index, NNP), (is, VBZ), (71, CD), (/pXkA6O5Vmq, NN)]   \n",
       "\n",
       "                                                                                                                                                                                                                                   text_no_stopwords  \\\n",
       "0                                                                                                                                                        especially like put energy used BTC mining transactions perspective . industry green energy   \n",
       "1                                                                                 next moon trip scheduled $ GREEN 500 % APY 30 day stake LFG ! ! ! GREENCHARTARMY 🔥🚀🌑 ( 's late ! ) BSC CRYPTO PANCAKESWAP BNB BTC BSCGem GREENCHARTbsc /FMiHgeUuW0   \n",
       "2                                                                                    Top Trending Cryptocurrency Post - COUP brought Crypto world . stayed believer help country many ways via /r/PaintingTheTape /VFp7w4Ku9h Cryptocurrency Bitcoin   \n",
       "3  Crypto Prices ( USD/₿ ) Bitcoin ⇨ $ 61413.7073➷ AxieInfinity ⇨ $ 162.1817➶ VeChain ⇨ $ 0.158➷ EthereumClassic ⇨ $ 47.2276➷ InternetComputer ⇨ $ 48.7601➷ EOS ⇨ $ 4.4415➷ Crypto Bitcoin AxieInfinity VeChain EthereumClassic InternetComputer EOS   \n",
       "4                                                                                                                                                                                                            Bitcoin Fear Greed Index 71 /pXkA6O5Vmq   \n",
       "\n",
       "                                                                                                                                                        cleaned_text  \n",
       "0                                                  iespeciallylikewheretheyputenergyusedbybtcminingandtransactionsinperspectivemoreandmoreoftheindustryisgreenenergy  \n",
       "1                              thenextmoontripisscheduledwithgreenapyfordaystakelfggreenchartarmyitsnottoolatebsccryptopancakeswapbnbbtcbscgemgreenchartbscfmihgeuuw  \n",
       "2  toptrendingcryptocurrencypostacoupbroughtmetocryptoworldnowistayedasabelieverbecauseitcanhelpmycountryinsomanywaysviarpaintingthetapevfpwkuhcryptocurrencybitcoin  \n",
       "3                       cryptopricesusdbitcoinaxieinfinityvechainethereumclassicinternetcomputereoscryptobitcoinaxieinfinityvechainethereumclassicinternetcomputereo  \n",
       "4                                                                                                                                 bitcoinfearandgreedindexispxkaovmq  \n",
       "\n",
       "[5 rows x 22 columns]"
      ]
     },
     "execution_count": 22,
     "metadata": {},
     "output_type": "execute_result"
    }
   ],
   "source": [
    "df_clean.head()"
   ]
  },
  {
   "cell_type": "markdown",
   "id": "b0ed8b02",
   "metadata": {},
   "source": [
    "We can merged with clean_text from the dataset with BTC price for possible futher analysis. "
   ]
  },
  {
   "cell_type": "code",
   "execution_count": 23,
   "id": "a584cacf",
   "metadata": {},
   "outputs": [],
   "source": [
    "btc_df = pd.read_csv(\"BTC-USD.csv\")\n",
    "df_clean['date'] = pd.to_datetime(df_clean['date']).dt.date\n",
    "btc_df['Date'] = pd.to_datetime(btc_df['Date']).dt.date\n",
    "\n",
    "# Merge the datasets on the date\n",
    "merged_df = pd.merge(df_clean, btc_df, how='inner', left_on='date', right_on='Date')\n",
    "merged_df.drop(columns=['Date'], inplace=True)"
   ]
  },
  {
   "cell_type": "code",
   "execution_count": 24,
   "id": "56a5aa12",
   "metadata": {},
   "outputs": [],
   "source": [
    "merged_df.to_csv('merged_df.csv', index=False)"
   ]
  },
  {
   "cell_type": "markdown",
   "id": "de2fe8e7",
   "metadata": {},
   "source": [
    "Sentence Sentiment Classification"
   ]
  },
  {
   "cell_type": "code",
   "execution_count": 25,
   "id": "5094c1bc",
   "metadata": {},
   "outputs": [
    {
     "name": "stderr",
     "output_type": "stream",
     "text": [
      "No model was supplied, defaulted to distilbert/distilbert-base-uncased-finetuned-sst-2-english and revision 714eb0f (https://huggingface.co/distilbert/distilbert-base-uncased-finetuned-sst-2-english).\n",
      "Using a pipeline without specifying a model name and revision in production is not recommended.\n",
      "Device set to use cpu\n"
     ]
    },
    {
     "data": {
      "text/html": [
       "<div>\n",
       "<style scoped>\n",
       "    .dataframe tbody tr th:only-of-type {\n",
       "        vertical-align: middle;\n",
       "    }\n",
       "\n",
       "    .dataframe tbody tr th {\n",
       "        vertical-align: top;\n",
       "    }\n",
       "\n",
       "    .dataframe thead th {\n",
       "        text-align: right;\n",
       "    }\n",
       "</style>\n",
       "<table border=\"1\" class=\"dataframe\">\n",
       "  <thead>\n",
       "    <tr style=\"text-align: right;\">\n",
       "      <th></th>\n",
       "      <th>text</th>\n",
       "      <th>label</th>\n",
       "      <th>confidence</th>\n",
       "    </tr>\n",
       "  </thead>\n",
       "  <tbody>\n",
       "    <tr>\n",
       "      <th>0</th>\n",
       "      <td>I especially like where they put energy used by BTC mining and transactions in perspective. More and more of the industry is green energy</td>\n",
       "      <td>POSITIVE</td>\n",
       "      <td>1.00</td>\n",
       "    </tr>\n",
       "    <tr>\n",
       "      <th>1</th>\n",
       "      <td>The next moon trip Is scheduled with $GREEN 500% APY for 30 day stake LFG!!!\\nGREENCHARTARMY 🔥🚀🌑 (It's not too late!) BSC CRYPTO PANCAKESWAP BNB  BTC  BSCGem GREENCHARTbsc /FMiHgeUuW0</td>\n",
       "      <td>NEGATIVE</td>\n",
       "      <td>0.92</td>\n",
       "    </tr>\n",
       "    <tr>\n",
       "      <th>2</th>\n",
       "      <td>Top Trending Cryptocurrency Post - A COUP brought me to Crypto world. Now I stayed as a believer because it can help my country in so many ways via /r/PaintingTheTape /VFp7w4Ku9h Cryptocurrency Bitcoin</td>\n",
       "      <td>POSITIVE</td>\n",
       "      <td>1.00</td>\n",
       "    </tr>\n",
       "    <tr>\n",
       "      <th>3</th>\n",
       "      <td>Crypto Prices (USD/₿)\\n\\nBitcoin ⇨ $61413.7073➷\\nAxieInfinity ⇨ $162.1817➶\\nVeChain ⇨ $0.158➷\\nEthereumClassic ⇨ $47.2276➷\\nInternetComputer ⇨ $48.7601➷\\nEOS ⇨ $4.4415➷\\n\\nCrypto Bitcoin AxieInfinity VeChain EthereumClassic InternetComputer EOS</td>\n",
       "      <td>NEGATIVE</td>\n",
       "      <td>0.99</td>\n",
       "    </tr>\n",
       "    <tr>\n",
       "      <th>4</th>\n",
       "      <td>Bitcoin Fear and Greed Index is 71 /pXkA6O5Vmq</td>\n",
       "      <td>NEGATIVE</td>\n",
       "      <td>0.99</td>\n",
       "    </tr>\n",
       "    <tr>\n",
       "      <th>5</th>\n",
       "      <td>4) To be clear, I am not a Bitcoin maximalist, but a proponent of cryptocurrencies and blockchain technology in general, because I believe that cryptocurrencies will also play their part in successfully changing the existing financial and political landscape. Bitcoin altcoins</td>\n",
       "      <td>POSITIVE</td>\n",
       "      <td>1.00</td>\n",
       "    </tr>\n",
       "    <tr>\n",
       "      <th>6</th>\n",
       "      <td>Bitcoin radio silence while everyone watches the red candle, what will it do?</td>\n",
       "      <td>NEGATIVE</td>\n",
       "      <td>1.00</td>\n",
       "    </tr>\n",
       "    <tr>\n",
       "      <th>7</th>\n",
       "      <td>/Q9UgmRMP0u GET FREE 5 USD WORTH OF LEGION NETWORK COIN !!!!! INSTANT CLAIM!!!!!! bitcoin crypto ethereum today offer affiliate cash app playstore appstore apple android tbt amazing $shib $btc $eth $avax $sol $galax $elon $doge $trx c</td>\n",
       "      <td>NEGATIVE</td>\n",
       "      <td>0.99</td>\n",
       "    </tr>\n",
       "    <tr>\n",
       "      <th>8</th>\n",
       "      <td>What do you choose?\\nCardano\\nBitcoin \\nDoge \\nEthereum \\nRipple \\nShibu /1NoLO48TPz</td>\n",
       "      <td>NEGATIVE</td>\n",
       "      <td>1.00</td>\n",
       "    </tr>\n",
       "    <tr>\n",
       "      <th>9</th>\n",
       "      <td>Here's a chance to reestablish BTC support over 40k \\n\\n👀 LOOK AT RSI /mgDpO5rI1R</td>\n",
       "      <td>NEGATIVE</td>\n",
       "      <td>0.93</td>\n",
       "    </tr>\n",
       "  </tbody>\n",
       "</table>\n",
       "</div>"
      ],
      "text/plain": [
       "                                                                                                                                                                                                                                                                                   text  \\\n",
       "0                                                                                                                                             I especially like where they put energy used by BTC mining and transactions in perspective. More and more of the industry is green energy   \n",
       "1                                                                                               The next moon trip Is scheduled with $GREEN 500% APY for 30 day stake LFG!!!\\nGREENCHARTARMY 🔥🚀🌑 (It's not too late!) BSC CRYPTO PANCAKESWAP BNB  BTC  BSCGem GREENCHARTbsc /FMiHgeUuW0   \n",
       "2                                                                             Top Trending Cryptocurrency Post - A COUP brought me to Crypto world. Now I stayed as a believer because it can help my country in so many ways via /r/PaintingTheTape /VFp7w4Ku9h Cryptocurrency Bitcoin   \n",
       "3                                  Crypto Prices (USD/₿)\\n\\nBitcoin ⇨ $61413.7073➷\\nAxieInfinity ⇨ $162.1817➶\\nVeChain ⇨ $0.158➷\\nEthereumClassic ⇨ $47.2276➷\\nInternetComputer ⇨ $48.7601➷\\nEOS ⇨ $4.4415➷\\n\\nCrypto Bitcoin AxieInfinity VeChain EthereumClassic InternetComputer EOS   \n",
       "4                                                                                                                                                                                                                                        Bitcoin Fear and Greed Index is 71 /pXkA6O5Vmq   \n",
       "5  4) To be clear, I am not a Bitcoin maximalist, but a proponent of cryptocurrencies and blockchain technology in general, because I believe that cryptocurrencies will also play their part in successfully changing the existing financial and political landscape. Bitcoin altcoins   \n",
       "6                                                                                                                                                                                                         Bitcoin radio silence while everyone watches the red candle, what will it do?   \n",
       "7                                            /Q9UgmRMP0u GET FREE 5 USD WORTH OF LEGION NETWORK COIN !!!!! INSTANT CLAIM!!!!!! bitcoin crypto ethereum today offer affiliate cash app playstore appstore apple android tbt amazing $shib $btc $eth $avax $sol $galax $elon $doge $trx c   \n",
       "8                                                                                                                                                                                                  What do you choose?\\nCardano\\nBitcoin \\nDoge \\nEthereum \\nRipple \\nShibu /1NoLO48TPz   \n",
       "9                                                                                                                                                                                                     Here's a chance to reestablish BTC support over 40k \\n\\n👀 LOOK AT RSI /mgDpO5rI1R   \n",
       "\n",
       "      label  confidence  \n",
       "0  POSITIVE        1.00  \n",
       "1  NEGATIVE        0.92  \n",
       "2  POSITIVE        1.00  \n",
       "3  NEGATIVE        0.99  \n",
       "4  NEGATIVE        0.99  \n",
       "5  POSITIVE        1.00  \n",
       "6  NEGATIVE        1.00  \n",
       "7  NEGATIVE        0.99  \n",
       "8  NEGATIVE        1.00  \n",
       "9  NEGATIVE        0.93  "
      ]
     },
     "execution_count": 25,
     "metadata": {},
     "output_type": "execute_result"
    }
   ],
   "source": [
    "# Load sentiment analysis model\n",
    "sentiment_pipeline =  pipeline(\"sentiment-analysis\", framework=\"pt\")\n",
    "\n",
    "texts = merged_df['text'].dropna().astype(str).head(10)\n",
    "sentiment_results = []\n",
    "\n",
    "for text in texts:\n",
    "    result = sentiment_pipeline(text)[0]\n",
    "    sentiment_results.append({\n",
    "        \"text\": text,\n",
    "        \"label\": result['label'],\n",
    "        \"confidence\": round(result['score'], 2)\n",
    "    })\n",
    "sentiment_df = pd.DataFrame(sentiment_results)\n",
    "sentiment_df.head(10)"
   ]
  },
  {
   "cell_type": "markdown",
   "id": "a4db9c9c",
   "metadata": {},
   "source": [
    "Sentiment Lexicon & Polarity"
   ]
  },
  {
   "cell_type": "markdown",
   "id": "15df747f",
   "metadata": {},
   "source": [
    "Using Textblob"
   ]
  },
  {
   "cell_type": "code",
   "execution_count": 26,
   "id": "3075a977",
   "metadata": {},
   "outputs": [
    {
     "name": "stdout",
     "output_type": "stream",
     "text": [
      "   textblob_polarity textblob_sentiment\n",
      "0           0.200000           positive\n",
      "1          -0.255208           negative\n",
      "2           0.500000           positive\n",
      "3           0.000000            neutral\n",
      "4           0.000000            neutral\n"
     ]
    }
   ],
   "source": [
    "merged_df['textblob_polarity'] = merged_df['text'].apply(lambda x: TextBlob(x).sentiment.polarity)\n",
    "merged_df['textblob_sentiment'] = merged_df['textblob_polarity'].apply(\n",
    "    lambda score: 'positive' if score > 0 else ('negative' if score < 0 else 'neutral')\n",
    ")\n",
    "print(merged_df[['textblob_polarity', 'textblob_sentiment']].head())"
   ]
  },
  {
   "cell_type": "markdown",
   "id": "9ada010d",
   "metadata": {},
   "source": [
    "Using VADER sentiment"
   ]
  },
  {
   "cell_type": "code",
   "execution_count": 27,
   "id": "9d1820f5",
   "metadata": {},
   "outputs": [
    {
     "name": "stdout",
     "output_type": "stream",
     "text": [
      "   vader_score vader_sentiment\n",
      "0       0.7178        positive\n",
      "1      -0.5526        negative\n",
      "2       0.5423        positive\n",
      "3       0.0000         neutral\n",
      "4      -0.7096        negative\n"
     ]
    }
   ],
   "source": [
    "analyzer = SentimentIntensityAnalyzer()\n",
    "\n",
    "merged_df['vader_score'] = merged_df['text'].apply(lambda x: analyzer.polarity_scores(x)['compound'])\n",
    "merged_df['vader_sentiment'] = merged_df['vader_score'].apply(\n",
    "    lambda score: 'positive' if score >= 0.05 else ('negative' if score <= -0.05 else 'neutral')\n",
    ")\n",
    "print(merged_df[['vader_score', 'vader_sentiment']].head())"
   ]
  },
  {
   "cell_type": "markdown",
   "id": "343a60cb",
   "metadata": {},
   "source": [
    "Using AFFIN"
   ]
  },
  {
   "cell_type": "code",
   "execution_count": 28,
   "id": "3e1c156f",
   "metadata": {},
   "outputs": [
    {
     "name": "stdout",
     "output_type": "stream",
     "text": [
      "   afinn_score afinn_sentiment\n",
      "0          2.0        positive\n",
      "1          0.0         neutral\n",
      "2          4.0        positive\n",
      "3          0.0         neutral\n",
      "4         -5.0        negative\n"
     ]
    }
   ],
   "source": [
    "af = Afinn()\n",
    "merged_df['afinn_score'] = merged_df['text'].apply(lambda x: af.score(x))\n",
    "merged_df['afinn_sentiment'] = merged_df['afinn_score'].apply(\n",
    "    lambda score: 'positive' if score > 0 else ('negative' if score < 0 else 'neutral')\n",
    ")\n",
    "print(merged_df[['afinn_score', 'afinn_sentiment']].head())"
   ]
  },
  {
   "cell_type": "markdown",
   "id": "95c9ac18",
   "metadata": {},
   "source": [
    "Sentiment Strength"
   ]
  },
  {
   "cell_type": "code",
   "execution_count": 29,
   "id": "6f51875c",
   "metadata": {},
   "outputs": [
    {
     "data": {
      "text/html": [
       "<div>\n",
       "<style scoped>\n",
       "    .dataframe tbody tr th:only-of-type {\n",
       "        vertical-align: middle;\n",
       "    }\n",
       "\n",
       "    .dataframe tbody tr th {\n",
       "        vertical-align: top;\n",
       "    }\n",
       "\n",
       "    .dataframe thead th {\n",
       "        text-align: right;\n",
       "    }\n",
       "</style>\n",
       "<table border=\"1\" class=\"dataframe\">\n",
       "  <thead>\n",
       "    <tr style=\"text-align: right;\">\n",
       "      <th></th>\n",
       "      <th>textblob_polarity</th>\n",
       "      <th>textblob_strength</th>\n",
       "      <th>textblob_sentiment_strength</th>\n",
       "      <th>vader_score</th>\n",
       "      <th>vader_strength</th>\n",
       "      <th>vader_sentiment_strength</th>\n",
       "    </tr>\n",
       "  </thead>\n",
       "  <tbody>\n",
       "    <tr>\n",
       "      <th>0</th>\n",
       "      <td>0.200000</td>\n",
       "      <td>0.200000</td>\n",
       "      <td>Mild Positive</td>\n",
       "      <td>0.7178</td>\n",
       "      <td>0.7178</td>\n",
       "      <td>Strong Positive</td>\n",
       "    </tr>\n",
       "    <tr>\n",
       "      <th>1</th>\n",
       "      <td>-0.255208</td>\n",
       "      <td>0.255208</td>\n",
       "      <td>Mild Negative</td>\n",
       "      <td>-0.5526</td>\n",
       "      <td>0.5526</td>\n",
       "      <td>Mild Negative</td>\n",
       "    </tr>\n",
       "    <tr>\n",
       "      <th>2</th>\n",
       "      <td>0.500000</td>\n",
       "      <td>0.500000</td>\n",
       "      <td>Mild Positive</td>\n",
       "      <td>0.5423</td>\n",
       "      <td>0.5423</td>\n",
       "      <td>Mild Positive</td>\n",
       "    </tr>\n",
       "    <tr>\n",
       "      <th>3</th>\n",
       "      <td>0.000000</td>\n",
       "      <td>0.000000</td>\n",
       "      <td>Neutral</td>\n",
       "      <td>0.0000</td>\n",
       "      <td>0.0000</td>\n",
       "      <td>Neutral</td>\n",
       "    </tr>\n",
       "    <tr>\n",
       "      <th>4</th>\n",
       "      <td>0.000000</td>\n",
       "      <td>0.000000</td>\n",
       "      <td>Neutral</td>\n",
       "      <td>-0.7096</td>\n",
       "      <td>0.7096</td>\n",
       "      <td>Strong Negative</td>\n",
       "    </tr>\n",
       "  </tbody>\n",
       "</table>\n",
       "</div>"
      ],
      "text/plain": [
       "   textblob_polarity  textblob_strength textblob_sentiment_strength  \\\n",
       "0           0.200000           0.200000               Mild Positive   \n",
       "1          -0.255208           0.255208               Mild Negative   \n",
       "2           0.500000           0.500000               Mild Positive   \n",
       "3           0.000000           0.000000                     Neutral   \n",
       "4           0.000000           0.000000                     Neutral   \n",
       "\n",
       "   vader_score  vader_strength vader_sentiment_strength  \n",
       "0       0.7178          0.7178          Strong Positive  \n",
       "1      -0.5526          0.5526            Mild Negative  \n",
       "2       0.5423          0.5423            Mild Positive  \n",
       "3       0.0000          0.0000                  Neutral  \n",
       "4      -0.7096          0.7096          Strong Negative  "
      ]
     },
     "execution_count": 29,
     "metadata": {},
     "output_type": "execute_result"
    }
   ],
   "source": [
    "# Calculate sentiment strength as absolute value of score\n",
    "merged_df['textblob_strength'] = merged_df['textblob_polarity'].abs()\n",
    "merged_df['vader_strength'] = merged_df['vader_score'].abs()\n",
    "\n",
    "def label_strength(polarity, strength, threshold=0.7):\n",
    "    if strength >= threshold:\n",
    "        return 'Strong Positive' if polarity > 0 else 'Strong Negative'\n",
    "    elif strength > 0:  # mild sentiment\n",
    "        return 'Mild Positive' if polarity > 0 else 'Mild Negative'\n",
    "    else:\n",
    "        return 'Neutral'\n",
    "\n",
    "merged_df['textblob_sentiment_strength'] = merged_df.apply(\n",
    "    lambda row: label_strength(row['textblob_polarity'], row['textblob_strength']), axis=1)\n",
    "\n",
    "merged_df['vader_sentiment_strength'] = merged_df.apply(\n",
    "    lambda row: label_strength(row['vader_score'], row['vader_strength']), axis=1)\n",
    "\n",
    "merged_df[[\n",
    "    'textblob_polarity', 'textblob_strength', 'textblob_sentiment_strength',\n",
    "    'vader_score', 'vader_strength', 'vader_sentiment_strength',\n",
    "]].head()\n"
   ]
  },
  {
   "cell_type": "code",
   "execution_count": 30,
   "id": "b1dae9d2",
   "metadata": {},
   "outputs": [
    {
     "data": {
      "text/html": [
       "<div>\n",
       "<style scoped>\n",
       "    .dataframe tbody tr th:only-of-type {\n",
       "        vertical-align: middle;\n",
       "    }\n",
       "\n",
       "    .dataframe tbody tr th {\n",
       "        vertical-align: top;\n",
       "    }\n",
       "\n",
       "    .dataframe thead th {\n",
       "        text-align: right;\n",
       "    }\n",
       "</style>\n",
       "<table border=\"1\" class=\"dataframe\">\n",
       "  <thead>\n",
       "    <tr style=\"text-align: right;\">\n",
       "      <th></th>\n",
       "      <th>afinn_score</th>\n",
       "      <th>afinn_strength</th>\n",
       "      <th>afinn_sentiment_strength</th>\n",
       "    </tr>\n",
       "  </thead>\n",
       "  <tbody>\n",
       "    <tr>\n",
       "      <th>0</th>\n",
       "      <td>2.0</td>\n",
       "      <td>2.0</td>\n",
       "      <td>Mild Positive</td>\n",
       "    </tr>\n",
       "    <tr>\n",
       "      <th>1</th>\n",
       "      <td>0.0</td>\n",
       "      <td>0.0</td>\n",
       "      <td>Neutral</td>\n",
       "    </tr>\n",
       "    <tr>\n",
       "      <th>2</th>\n",
       "      <td>4.0</td>\n",
       "      <td>4.0</td>\n",
       "      <td>Strong Positive</td>\n",
       "    </tr>\n",
       "    <tr>\n",
       "      <th>3</th>\n",
       "      <td>0.0</td>\n",
       "      <td>0.0</td>\n",
       "      <td>Neutral</td>\n",
       "    </tr>\n",
       "    <tr>\n",
       "      <th>4</th>\n",
       "      <td>-5.0</td>\n",
       "      <td>5.0</td>\n",
       "      <td>Strong Negative</td>\n",
       "    </tr>\n",
       "  </tbody>\n",
       "</table>\n",
       "</div>"
      ],
      "text/plain": [
       "   afinn_score  afinn_strength afinn_sentiment_strength\n",
       "0          2.0             2.0            Mild Positive\n",
       "1          0.0             0.0                  Neutral\n",
       "2          4.0             4.0          Strong Positive\n",
       "3          0.0             0.0                  Neutral\n",
       "4         -5.0             5.0          Strong Negative"
      ]
     },
     "execution_count": 30,
     "metadata": {},
     "output_type": "execute_result"
    }
   ],
   "source": [
    "merged_df['afinn_strength'] = merged_df['afinn_score'].abs()\n",
    "def label_afinn_strength(score):\n",
    "    strength = abs(score)\n",
    "    if strength >= 4:\n",
    "        return 'Strong Positive' if score > 0 else 'Strong Negative'\n",
    "    elif strength > 0:\n",
    "        return 'Mild Positive' if score > 0 else 'Mild Negative'\n",
    "    else:\n",
    "        return 'Neutral'\n",
    "\n",
    "# Apply specifically to AFINN\n",
    "merged_df['afinn_sentiment_strength'] = merged_df['afinn_score'].apply(label_afinn_strength)\n",
    "\n",
    "# Display AFINN results only\n",
    "merged_df[['afinn_score', 'afinn_strength', 'afinn_sentiment_strength']].head()"
   ]
  },
  {
   "cell_type": "markdown",
   "id": "2da8437b",
   "metadata": {},
   "source": [
    "## Data Visualizations\n",
    "- this can let us to analyse the potential trend happening in the dataset. "
   ]
  },
  {
   "cell_type": "code",
   "execution_count": 31,
   "id": "1f3b82fa",
   "metadata": {},
   "outputs": [
    {
     "data": {
      "image/png": "[encoded data removed]",
      "text/plain": [
       "<Figure size 1200x600 with 1 Axes>"
      ]
     },
     "metadata": {},
     "output_type": "display_data"
    }
   ],
   "source": [
    "location_counts = df_clean['user_location'].value_counts().head(10)\n",
    "plt.figure(figsize=(12, 6))\n",
    "sns.barplot(x=location_counts.values, y=location_counts.index)\n",
    "plt.title('Top 10 Tweet Locations')\n",
    "plt.xlabel('Number of Tweets')\n",
    "plt.ylabel('Location')\n",
    "plt.tight_layout()\n",
    "plt.show()"
   ]
  },
  {
   "cell_type": "code",
   "execution_count": 32,
   "id": "b801cb5d",
   "metadata": {},
   "outputs": [
    {
     "data": {
      "image/png": "[encoded data removed]",
      "text/plain": [
       "<Figure size 1000x500 with 1 Axes>"
      ]
     },
     "metadata": {},
     "output_type": "display_data"
    }
   ],
   "source": [
    "plt.figure(figsize=(10, 5))\n",
    "top_sources = df_clean['source'].value_counts().head(10)\n",
    "sns.barplot(x=top_sources.values, y=top_sources.index)\n",
    "plt.title('Top 10 Tweet Sources')\n",
    "plt.xlabel('Tweet Count')\n",
    "plt.ylabel('Source')\n",
    "plt.tight_layout()\n",
    "plt.show()"
   ]
  },
  {
   "cell_type": "code",
   "execution_count": 33,
   "id": "7ab043bb",
   "metadata": {},
   "outputs": [
    {
     "data": {
      "image/png": "[encoded data removed]",
      "text/plain": [
       "<Figure size 1000x500 with 1 Axes>"
      ]
     },
     "metadata": {},
     "output_type": "display_data"
    }
   ],
   "source": [
    "hashtags = df_clean['hashtags'].apply(lambda x: ast.literal_eval(x) if isinstance(x, str) else [])\n",
    "hashtag_list = [hashtag for sublist in hashtags for hashtag in sublist]\n",
    "top_hashtags = Counter(hashtag_list).most_common(10)\n",
    "labels, counts = zip(*top_hashtags)\n",
    "\n",
    "plt.figure(figsize=(10, 5))\n",
    "sns.barplot(x=list(counts), y=list(labels))\n",
    "plt.title('Top 10 Hashtags')\n",
    "plt.xlabel('Count')\n",
    "plt.ylabel('Hashtag')\n",
    "plt.tight_layout()\n",
    "plt.show()"
   ]
  },
  {
   "cell_type": "code",
   "execution_count": 34,
   "id": "56406ca8",
   "metadata": {},
   "outputs": [
    {
     "data": {
      "text/plain": [
       "Text(0.5, 1.0, 'Sentiment Analysis Comparison')"
      ]
     },
     "execution_count": 34,
     "metadata": {},
     "output_type": "execute_result"
    },
    {
     "data": {
      "image/png": "[encoded data removed]",
      "text/plain": [
       "<Figure size 1200x600 with 1 Axes>"
      ]
     },
     "metadata": {},
     "output_type": "display_data"
    }
   ],
   "source": [
    "sentiment_counts = {\n",
    "    'TextBlob': merged_df['textblob_sentiment'].value_counts(),\n",
    "    'VADER': merged_df['vader_sentiment'].value_counts(),\n",
    "    'AFINN': merged_df['afinn_sentiment'].value_counts()\n",
    "}\n",
    "sentiment_comparison_df = pd.DataFrame(sentiment_counts).fillna(0).astype(int)\n",
    "sentiment_comparison_df.plot(kind='bar', figsize=(12, 6))\n",
    "plt.title('Sentiment Analysis Comparison')"
   ]
  },
  {
   "cell_type": "code",
   "execution_count": 35,
   "id": "8b8779e6",
   "metadata": {},
   "outputs": [
    {
     "data": {
      "image/png": "[encoded data removed]",
      "text/plain": [
       "<Figure size 800x500 with 1 Axes>"
      ]
     },
     "metadata": {},
     "output_type": "display_data"
    }
   ],
   "source": [
    "counts = merged_df['textblob_sentiment_strength'].value_counts()\n",
    "\n",
    "# Plot\n",
    "counts.plot(kind='bar', color='skyblue', figsize=(8,5))\n",
    "plt.title(\"Textblob Sentiment Strength Distribution\")\n",
    "plt.xlabel(\"Sentiment Category\")\n",
    "plt.ylabel(\"Number of Tweets\")\n",
    "plt.xticks(rotation=45)\n",
    "plt.tight_layout()\n",
    "plt.show()\n"
   ]
  },
  {
   "cell_type": "code",
   "execution_count": 36,
   "id": "3e03d0d0",
   "metadata": {},
   "outputs": [
    {
     "data": {
      "image/png": "[encoded data removed]",
      "text/plain": [
       "<Figure size 800x500 with 1 Axes>"
      ]
     },
     "metadata": {},
     "output_type": "display_data"
    }
   ],
   "source": [
    "counts = merged_df['vader_sentiment_strength'].value_counts()\n",
    "\n",
    "# Plot\n",
    "counts.plot(kind='bar', color='skyblue', figsize=(8,5))\n",
    "plt.title(\"VADER Sentiment Strength Distribution\")\n",
    "plt.xlabel(\"Sentiment Category\")\n",
    "plt.ylabel(\"Number of Tweets\")\n",
    "plt.xticks(rotation=45)\n",
    "plt.tight_layout()\n",
    "plt.show()"
   ]
  },
  {
   "cell_type": "code",
   "execution_count": 37,
   "id": "e54aef6d",
   "metadata": {},
   "outputs": [
    {
     "data": {
      "image/png": "[encoded data removed]",
      "text/plain": [
       "<Figure size 800x500 with 1 Axes>"
      ]
     },
     "metadata": {},
     "output_type": "display_data"
    }
   ],
   "source": [
    "counts = merged_df['afinn_sentiment_strength'].value_counts()\n",
    "\n",
    "# Plot\n",
    "counts.plot(kind='bar', color='skyblue', figsize=(8,5))\n",
    "plt.title(\"AFFIN Sentiment Strength Distribution\")\n",
    "plt.xlabel(\"Sentiment Category\")\n",
    "plt.ylabel(\"Number of Tweets\")\n",
    "plt.xticks(rotation=45)\n",
    "plt.tight_layout()\n",
    "plt.show()"
   ]
  },
  {
   "cell_type": "code",
   "execution_count": 38,
   "id": "13ba85ac",
   "metadata": {},
   "outputs": [],
   "source": [
    "new_df = merged_df.to_csv('new.csv', index=False)"
   ]
  },
  {
   "cell_type": "markdown",
   "id": "bbf8348a",
   "metadata": {},
   "source": [
    "## Feature Engineering"
   ]
  },
  {
   "cell_type": "markdown",
   "id": "34fd9301",
   "metadata": {},
   "source": [
    "Contextual Embeddings (BERT)"
   ]
  },
  {
   "cell_type": "code",
   "execution_count": 82,
   "id": "89dcf069",
   "metadata": {},
   "outputs": [
    {
     "name": "stderr",
     "output_type": "stream",
     "text": [
      "No model was supplied, defaulted to distilbert/distilbert-base-uncased-finetuned-sst-2-english and revision 714eb0f (https://huggingface.co/distilbert/distilbert-base-uncased-finetuned-sst-2-english).\n",
      "Using a pipeline without specifying a model name and revision in production is not recommended.\n",
      "Device set to use cpu\n"
     ]
    }
   ],
   "source": [
    "from transformers import pipeline\n",
    "\n",
    "# Load BERT sentiment classifier\n",
    "sentiment_pipeline = pipeline(\"sentiment-analysis\", framework=\"pt\")\n",
    "\n",
    "# Apply to your text column\n",
    "def get_sentiment_label(text):\n",
    "    result = sentiment_pipeline(text[:512])[0]\n",
    "    return result['label'].lower()  # 'positive', 'neutral', or 'negative'\n",
    "\n",
    "df['sentiment'] = df_clean['text'].astype(str).apply(get_sentiment_label)\n",
    "\n"
   ]
  },
  {
   "cell_type": "code",
   "execution_count": 83,
   "id": "b6023375",
   "metadata": {},
   "outputs": [
    {
     "name": "stdout",
     "output_type": "stream",
     "text": [
      "sentiment\n",
      "negative    8607\n",
      "positive    2440\n",
      "Name: count, dtype: int64\n"
     ]
    }
   ],
   "source": [
    "print(df['sentiment'].value_counts())\n"
   ]
  },
  {
   "cell_type": "code",
   "execution_count": 84,
   "id": "750fd030",
   "metadata": {},
   "outputs": [
    {
     "data": {
      "text/plain": [
       "0    1\n",
       "1    0\n",
       "2    1\n",
       "3    0\n",
       "4    0\n",
       "Name: label, dtype: int64"
      ]
     },
     "execution_count": 84,
     "metadata": {},
     "output_type": "execute_result"
    }
   ],
   "source": [
    "label_map = {'negative': 0, 'positive': 1}\n",
    "df['label'] = df['sentiment'].map(label_map)\n",
    "df['label'].head()\n"
   ]
  },
  {
   "cell_type": "markdown",
   "id": "92aff01b",
   "metadata": {},
   "source": [
    "TF-IDF"
   ]
  },
  {
   "cell_type": "code",
   "execution_count": 85,
   "id": "33db6343",
   "metadata": {},
   "outputs": [],
   "source": [
    "# def clean_text(text):\n",
    "#     text = text.lower()\n",
    "#     text = re.sub(r\"http\\S+|www\\S+|https\\S+\", '', text)\n",
    "#     text = re.sub(r\"[^a-z\\s]\", '', text)\n",
    "#     doc = nlp(text)\n",
    "#     tokens = [token.lemma_ for token in doc if token.text not in stop_words and not token.is_stop]\n",
    "#     return ' '.join(tokens)\n",
    "\n",
    "# df['cleaned_text'] = df['text'].apply(clean_text)\n",
    "# \n",
    "from sklearn.feature_extraction.text import TfidfVectorizer\n",
    "\n",
    "# Create TF-IDF features from cleaned text\n",
    "tfidf = TfidfVectorizer(max_features=3000)\n",
    "X_log = tfidf.fit_transform(df_clean['cleaned_text'])  # Cleaned and lemmatized text\n",
    "y_log = df['label']  # 0 or 1, from BERT-based sentiment"
   ]
  },
  {
   "cell_type": "markdown",
   "id": "0eb73f64",
   "metadata": {},
   "source": [
    "Word2Vec"
   ]
  },
  {
   "cell_type": "code",
   "execution_count": 53,
   "id": "6d1b019c",
   "metadata": {},
   "outputs": [],
   "source": [
    "from gensim.models import Word2Vec\n",
    "from transformers import pipeline, BertTokenizer, BertForSequenceClassification\n",
    "import torch\n",
    "\n",
    "# ==== WORD2VEC EMBEDDING ====\n",
    "tokenized = df_clean['cleaned_text'].apply(lambda x: x.split())\n",
    "w2v_model = Word2Vec(sentences=tokenized, vector_size=100, window=5, min_count=2, workers=4)\n",
    "\n",
    "def vector_average(tokens):\n",
    "    vectors = [w2v_model.wv[word] for word in tokens if word in w2v_model.wv]\n",
    "    return np.mean(vectors, axis=0) if vectors else np.zeros(100)\n"
   ]
  },
  {
   "cell_type": "markdown",
   "id": "91f94614",
   "metadata": {},
   "source": [
    "## Modelling"
   ]
  },
  {
   "cell_type": "markdown",
   "id": "45e5000f",
   "metadata": {},
   "source": [
    "### Deep Learning- BiLSTM"
   ]
  },
  {
   "cell_type": "code",
   "execution_count": 56,
   "id": "8e6eb6b2",
   "metadata": {},
   "outputs": [
    {
     "data": {
      "text/html": [
       "<pre style=\"white-space:pre;overflow-x:auto;line-height:normal;font-family:Menlo,'DejaVu Sans Mono',consolas,'Courier New',monospace\"><span style=\"font-weight: bold\">Model: \"sequential\"</span>\n",
       "</pre>\n"
      ],
      "text/plain": [
       "\u001b[1mModel: \"sequential\"\u001b[0m\n"
      ]
     },
     "metadata": {},
     "output_type": "display_data"
    },
    {
     "data": {
      "text/html": [
       "<pre style=\"white-space:pre;overflow-x:auto;line-height:normal;font-family:Menlo,'DejaVu Sans Mono',consolas,'Courier New',monospace\">┏━━━━━━━━━━━━━━━━━━━━━━━━━━━━━━━━━┳━━━━━━━━━━━━━━━━━━━━━━━━┳━━━━━━━━━━━━━━━┓\n",
       "┃<span style=\"font-weight: bold\"> Layer (type)                    </span>┃<span style=\"font-weight: bold\"> Output Shape           </span>┃<span style=\"font-weight: bold\">       Param # </span>┃\n",
       "┡━━━━━━━━━━━━━━━━━━━━━━━━━━━━━━━━━╇━━━━━━━━━━━━━━━━━━━━━━━━╇━━━━━━━━━━━━━━━┩\n",
       "│ embedding (<span style=\"color: #0087ff; text-decoration-color: #0087ff\">Embedding</span>)           │ (<span style=\"color: #00d7ff; text-decoration-color: #00d7ff\">None</span>, <span style=\"color: #00af00; text-decoration-color: #00af00\">50</span>, <span style=\"color: #00af00; text-decoration-color: #00af00\">64</span>)         │       <span style=\"color: #00af00; text-decoration-color: #00af00\">640,000</span> │\n",
       "├─────────────────────────────────┼────────────────────────┼───────────────┤\n",
       "│ bidirectional (<span style=\"color: #0087ff; text-decoration-color: #0087ff\">Bidirectional</span>)   │ (<span style=\"color: #00d7ff; text-decoration-color: #00d7ff\">None</span>, <span style=\"color: #00af00; text-decoration-color: #00af00\">128</span>)            │        <span style=\"color: #00af00; text-decoration-color: #00af00\">66,048</span> │\n",
       "├─────────────────────────────────┼────────────────────────┼───────────────┤\n",
       "│ dropout (<span style=\"color: #0087ff; text-decoration-color: #0087ff\">Dropout</span>)               │ (<span style=\"color: #00d7ff; text-decoration-color: #00d7ff\">None</span>, <span style=\"color: #00af00; text-decoration-color: #00af00\">128</span>)            │             <span style=\"color: #00af00; text-decoration-color: #00af00\">0</span> │\n",
       "├─────────────────────────────────┼────────────────────────┼───────────────┤\n",
       "│ dense (<span style=\"color: #0087ff; text-decoration-color: #0087ff\">Dense</span>)                   │ (<span style=\"color: #00d7ff; text-decoration-color: #00d7ff\">None</span>, <span style=\"color: #00af00; text-decoration-color: #00af00\">32</span>)             │         <span style=\"color: #00af00; text-decoration-color: #00af00\">4,128</span> │\n",
       "├─────────────────────────────────┼────────────────────────┼───────────────┤\n",
       "│ dense_1 (<span style=\"color: #0087ff; text-decoration-color: #0087ff\">Dense</span>)                 │ (<span style=\"color: #00d7ff; text-decoration-color: #00d7ff\">None</span>, <span style=\"color: #00af00; text-decoration-color: #00af00\">1</span>)              │            <span style=\"color: #00af00; text-decoration-color: #00af00\">33</span> │\n",
       "└─────────────────────────────────┴────────────────────────┴───────────────┘\n",
       "</pre>\n"
      ],
      "text/plain": [
       "┏━━━━━━━━━━━━━━━━━━━━━━━━━━━━━━━━━┳━━━━━━━━━━━━━━━━━━━━━━━━┳━━━━━━━━━━━━━━━┓\n",
       "┃\u001b[1m \u001b[0m\u001b[1mLayer (type)                   \u001b[0m\u001b[1m \u001b[0m┃\u001b[1m \u001b[0m\u001b[1mOutput Shape          \u001b[0m\u001b[1m \u001b[0m┃\u001b[1m \u001b[0m\u001b[1m      Param #\u001b[0m\u001b[1m \u001b[0m┃\n",
       "┡━━━━━━━━━━━━━━━━━━━━━━━━━━━━━━━━━╇━━━━━━━━━━━━━━━━━━━━━━━━╇━━━━━━━━━━━━━━━┩\n",
       "│ embedding (\u001b[38;5;33mEmbedding\u001b[0m)           │ (\u001b[38;5;45mNone\u001b[0m, \u001b[38;5;34m50\u001b[0m, \u001b[38;5;34m64\u001b[0m)         │       \u001b[38;5;34m640,000\u001b[0m │\n",
       "├─────────────────────────────────┼────────────────────────┼───────────────┤\n",
       "│ bidirectional (\u001b[38;5;33mBidirectional\u001b[0m)   │ (\u001b[38;5;45mNone\u001b[0m, \u001b[38;5;34m128\u001b[0m)            │        \u001b[38;5;34m66,048\u001b[0m │\n",
       "├─────────────────────────────────┼────────────────────────┼───────────────┤\n",
       "│ dropout (\u001b[38;5;33mDropout\u001b[0m)               │ (\u001b[38;5;45mNone\u001b[0m, \u001b[38;5;34m128\u001b[0m)            │             \u001b[38;5;34m0\u001b[0m │\n",
       "├─────────────────────────────────┼────────────────────────┼───────────────┤\n",
       "│ dense (\u001b[38;5;33mDense\u001b[0m)                   │ (\u001b[38;5;45mNone\u001b[0m, \u001b[38;5;34m32\u001b[0m)             │         \u001b[38;5;34m4,128\u001b[0m │\n",
       "├─────────────────────────────────┼────────────────────────┼───────────────┤\n",
       "│ dense_1 (\u001b[38;5;33mDense\u001b[0m)                 │ (\u001b[38;5;45mNone\u001b[0m, \u001b[38;5;34m1\u001b[0m)              │            \u001b[38;5;34m33\u001b[0m │\n",
       "└─────────────────────────────────┴────────────────────────┴───────────────┘\n"
      ]
     },
     "metadata": {},
     "output_type": "display_data"
    },
    {
     "data": {
      "text/html": [
       "<pre style=\"white-space:pre;overflow-x:auto;line-height:normal;font-family:Menlo,'DejaVu Sans Mono',consolas,'Courier New',monospace\"><span style=\"font-weight: bold\"> Total params: </span><span style=\"color: #00af00; text-decoration-color: #00af00\">710,209</span> (2.71 MB)\n",
       "</pre>\n"
      ],
      "text/plain": [
       "\u001b[1m Total params: \u001b[0m\u001b[38;5;34m710,209\u001b[0m (2.71 MB)\n"
      ]
     },
     "metadata": {},
     "output_type": "display_data"
    },
    {
     "data": {
      "text/html": [
       "<pre style=\"white-space:pre;overflow-x:auto;line-height:normal;font-family:Menlo,'DejaVu Sans Mono',consolas,'Courier New',monospace\"><span style=\"font-weight: bold\"> Trainable params: </span><span style=\"color: #00af00; text-decoration-color: #00af00\">710,209</span> (2.71 MB)\n",
       "</pre>\n"
      ],
      "text/plain": [
       "\u001b[1m Trainable params: \u001b[0m\u001b[38;5;34m710,209\u001b[0m (2.71 MB)\n"
      ]
     },
     "metadata": {},
     "output_type": "display_data"
    },
    {
     "data": {
      "text/html": [
       "<pre style=\"white-space:pre;overflow-x:auto;line-height:normal;font-family:Menlo,'DejaVu Sans Mono',consolas,'Courier New',monospace\"><span style=\"font-weight: bold\"> Non-trainable params: </span><span style=\"color: #00af00; text-decoration-color: #00af00\">0</span> (0.00 B)\n",
       "</pre>\n"
      ],
      "text/plain": [
       "\u001b[1m Non-trainable params: \u001b[0m\u001b[38;5;34m0\u001b[0m (0.00 B)\n"
      ]
     },
     "metadata": {},
     "output_type": "display_data"
    },
    {
     "name": "stdout",
     "output_type": "stream",
     "text": [
      "Epoch 1/5\n",
      "\u001b[1m111/111\u001b[0m \u001b[32m━━━━━━━━━━━━━━━━━━━━\u001b[0m\u001b[37m\u001b[0m \u001b[1m5s\u001b[0m 21ms/step - accuracy: 0.5624 - loss: 0.6862 - val_accuracy: 0.5667 - val_loss: 0.6829\n",
      "Epoch 2/5\n",
      "\u001b[1m111/111\u001b[0m \u001b[32m━━━━━━━━━━━━━━━━━━━━\u001b[0m\u001b[37m\u001b[0m \u001b[1m2s\u001b[0m 17ms/step - accuracy: 0.5926 - loss: 0.6660 - val_accuracy: 0.5520 - val_loss: 0.6874\n",
      "Epoch 3/5\n",
      "\u001b[1m111/111\u001b[0m \u001b[32m━━━━━━━━━━━━━━━━━━━━\u001b[0m\u001b[37m\u001b[0m \u001b[1m2s\u001b[0m 18ms/step - accuracy: 0.7703 - loss: 0.5078 - val_accuracy: 0.5560 - val_loss: 0.8443\n",
      "Epoch 4/5\n",
      "\u001b[1m111/111\u001b[0m \u001b[32m━━━━━━━━━━━━━━━━━━━━\u001b[0m\u001b[37m\u001b[0m \u001b[1m2s\u001b[0m 17ms/step - accuracy: 0.8651 - loss: 0.3332 - val_accuracy: 0.5509 - val_loss: 0.9542\n",
      "Epoch 5/5\n",
      "\u001b[1m111/111\u001b[0m \u001b[32m━━━━━━━━━━━━━━━━━━━━\u001b[0m\u001b[37m\u001b[0m \u001b[1m2s\u001b[0m 17ms/step - accuracy: 0.9126 - loss: 0.2244 - val_accuracy: 0.5436 - val_loss: 1.2676\n",
      "\u001b[1m70/70\u001b[0m \u001b[32m━━━━━━━━━━━━━━━━━━━━\u001b[0m\u001b[37m\u001b[0m \u001b[1m0s\u001b[0m 5ms/step - accuracy: 0.5460 - loss: 1.2631\n",
      "Test Accuracy: 0.5416\n",
      "\u001b[1m70/70\u001b[0m \u001b[32m━━━━━━━━━━━━━━━━━━━━\u001b[0m\u001b[37m\u001b[0m \u001b[1m1s\u001b[0m 6ms/step\n",
      "              precision    recall  f1-score   support\n",
      "\n",
      "           0       0.48      0.53      0.50       971\n",
      "           1       0.60      0.55      0.58      1239\n",
      "\n",
      "    accuracy                           0.54      2210\n",
      "   macro avg       0.54      0.54      0.54      2210\n",
      "weighted avg       0.55      0.54      0.54      2210\n",
      "\n"
     ]
    },
    {
     "data": {
      "image/png": "[encoded data removed]",
      "text/plain": [
       "<Figure size 640x480 with 1 Axes>"
      ]
     },
     "metadata": {},
     "output_type": "display_data"
    }
   ],
   "source": [
    "# Create sentiment labels based on price change\n",
    "df = pd.read_csv('merged_df.csv')\n",
    "df['Sentiment_Label'] = (df['Close'] > df['Open']).astype(int)\n",
    "\n",
    "# Prepare text and labels\n",
    "texts = df['text_no_stopwords'].astype(str).tolist()\n",
    "labels = df['Sentiment_Label'].tolist()\n",
    "\n",
    "# Tokenization and padding\n",
    "tokenizer = Tokenizer(num_words=10000, oov_token=\"<OOV>\")\n",
    "tokenizer.fit_on_texts(texts)\n",
    "sequences = tokenizer.texts_to_sequences(texts)\n",
    "max_len = 50\n",
    "padded = pad_sequences(sequences, maxlen=max_len, padding='post', truncating='post')\n",
    "\n",
    "# Train-test split\n",
    "X_train, X_test, y_train, y_test = train_test_split(padded, labels, test_size=0.2, random_state=42)\n",
    "\n",
    "# Build BiLSTM model\n",
    "model = Sequential([\n",
    "    Input(shape=(max_len,)),  # Ensures model is built immediately\n",
    "    Embedding(input_dim=10000, output_dim=64),\n",
    "    Bidirectional(LSTM(64, return_sequences=False)),\n",
    "    Dropout(0.3),\n",
    "    Dense(32, activation='relu'),\n",
    "    Dense(1, activation='sigmoid')\n",
    "])\n",
    "\n",
    "model.compile(loss='binary_crossentropy', optimizer='adam', metrics=['accuracy'])\n",
    "model.summary()\n",
    "\n",
    "# Train the model\n",
    "history = model.fit(np.array(X_train), np.array(y_train), \n",
    "                    validation_split=0.2, epochs=5, batch_size=64)\n",
    "\n",
    "# Evaluate the model\n",
    "loss, accuracy = model.evaluate(np.array(X_test), np.array(y_test))\n",
    "print(f\"Test Accuracy: {accuracy:.4f}\")\n",
    "\n",
    "#Classification report\n",
    "y_pred = (model.predict(np.array(X_test)) > 0.5).astype(\"int32\")\n",
    "print(classification_report(y_test, y_pred))\n",
    "\n",
    "# Plot training results\n",
    "plt.plot(history.history['accuracy'], label='Train Acc')\n",
    "plt.plot(history.history['val_accuracy'], label='Val Acc')\n",
    "plt.xlabel('Epochs')\n",
    "plt.ylabel('Accuracy')\n",
    "plt.title('BiLSTM Training Performance')\n",
    "plt.legend()\n",
    "plt.grid(True)\n",
    "plt.show()\n"
   ]
  },
  {
   "cell_type": "code",
   "execution_count": 57,
   "id": "fbabe7c3",
   "metadata": {},
   "outputs": [
    {
     "name": "stdout",
     "output_type": "stream",
     "text": [
      "\u001b[1m1/1\u001b[0m \u001b[32m━━━━━━━━━━━━━━━━━━━━\u001b[0m\u001b[37m\u001b[0m \u001b[1m0s\u001b[0m 29ms/step\n",
      "\n",
      "Tweet: “ free lunch ” applies central banking . . Bitcoin\n",
      "Predicted Sentiment: Positive (Score: 0.6935)\n",
      "\n",
      "Tweet: Fucking hell . sub 35k . going nuke ’ . 👀 btc\n",
      "Predicted Sentiment: Positive (Score: 0.7772)\n",
      "\n",
      "Tweet: Hi Syd ! ELONONE drop ROCKETDASHGAME 'd love stream ETH BTC nftcollector Ethereum ElonMusk shiba SolanaSummer NFTCommunity Saitama NFTs ASTROZERO ShibaSwap ADA UFC268 MUFC ManchesterDerby ManchesterIsRed /bRVopGjIWO\n",
      "Predicted Sentiment: Negative (Score: 0.0572)\n",
      "\n",
      "Tweet: Looks like Chinese migration drop absorbed ( -4.8 % ) . Slowly surely hashrate difficulty increase kit , new old starts come online . Hashrate currently 100Eh/s . Bitcoin /DXGyhZGTul\n",
      "Predicted Sentiment: Negative (Score: 0.0740)\n",
      "\n",
      "Tweet: Metaverse pre-sale tonight WetaToken /YcLpIviIoX /l7zBYUXy2T /GqR6Vb1KMI BSC Meta Binance btc ETH MANA AVAX\n",
      "Predicted Sentiment: Positive (Score: 0.9925)\n"
     ]
    }
   ],
   "source": [
    "# Show predictions on a few random samples\n",
    "sample_texts = df['text_no_stopwords'].sample(5, random_state=42).tolist()\n",
    "sample_sequences = tokenizer.texts_to_sequences(sample_texts)\n",
    "sample_padded = pad_sequences(sample_sequences, maxlen=max_len, padding='post')\n",
    "\n",
    "# Predict using the trained model\n",
    "sample_preds = model.predict(sample_padded)\n",
    "sample_labels = (sample_preds > 0.5).astype(int)\n",
    "\n",
    "# Display\n",
    "for i in range(len(sample_texts)):\n",
    "    print(f\"\\nTweet: {sample_texts[i]}\")\n",
    "    print(f\"Predicted Sentiment: {'Positive' if sample_labels[i][0] == 1 else 'Negative'} (Score: {sample_preds[i][0]:.4f})\")\n"
   ]
  },
  {
   "cell_type": "code",
   "execution_count": 58,
   "id": "03185fe6",
   "metadata": {},
   "outputs": [
    {
     "data": {
      "image/png": "[encoded data removed]",
      "text/plain": [
       "<Figure size 600x400 with 2 Axes>"
      ]
     },
     "metadata": {},
     "output_type": "display_data"
    }
   ],
   "source": [
    "# Simulated binary classification for example\n",
    "np.random.seed(42)\n",
    "simulated_y_test = np.random.randint(0, 2, size=2210)\n",
    "simulated_y_pred = np.random.randint(0, 2, size=2210)\n",
    "\n",
    "# Create confusion matrix\n",
    "cm = confusion_matrix(simulated_y_test, simulated_y_pred)\n",
    "labels = ['Negative', 'Positive']\n",
    "\n",
    "# Plot\n",
    "plt.figure(figsize=(6, 4))\n",
    "sns.heatmap(cm, annot=True, fmt=\"d\", cmap=\"Blues\", xticklabels=labels, yticklabels=labels)\n",
    "plt.title(\"Confusion Matrix\")\n",
    "plt.xlabel(\"Predicted\")\n",
    "plt.ylabel(\"Actual\")\n",
    "plt.tight_layout()\n",
    "plt.show()"
   ]
  },
  {
   "cell_type": "markdown",
   "id": "28a21c35",
   "metadata": {},
   "source": [
    "### Hier-GCNN"
   ]
  },
  {
   "cell_type": "code",
   "execution_count": 59,
   "id": "e8c0f902",
   "metadata": {},
   "outputs": [
    {
     "name": "stdout",
     "output_type": "stream",
     "text": [
      "Epoch 1, Loss: 243.3145\n",
      "Epoch 2, Loss: 167.7933\n",
      "Epoch 3, Loss: 89.7752\n",
      "              precision    recall  f1-score   support\n",
      "\n",
      "    negative       0.53      0.30      0.38       359\n",
      "     neutral       0.67      0.63      0.65       749\n",
      "    positive       0.69      0.82      0.75      1102\n",
      "\n",
      "    accuracy                           0.67      2210\n",
      "   macro avg       0.63      0.58      0.59      2210\n",
      "weighted avg       0.66      0.67      0.66      2210\n",
      "\n"
     ]
    }
   ],
   "source": [
    "import pandas as pd\n",
    "import numpy as np\n",
    "import torch\n",
    "import torch.nn as nn\n",
    "from torch.utils.data import Dataset, DataLoader\n",
    "from sklearn.model_selection import train_test_split\n",
    "from sklearn.preprocessing import LabelEncoder\n",
    "from sklearn.metrics import classification_report\n",
    "\n",
    "# Load and preprocess\n",
    "merged_df = merged_df.dropna(subset=['text_no_stopwords', 'vader_sentiment'])\n",
    "\n",
    "# Encode sentiment labels\n",
    "label_encoder = LabelEncoder()\n",
    "merged_df['label'] = label_encoder.fit_transform(merged_df['vader_sentiment'])  # 0=neg, 1=neu, 2=pos\n",
    "\n",
    "# Tokenize text\n",
    "merged_df['tokens'] = merged_df['text_no_stopwords'].astype(str).apply(lambda x: x.split())\n",
    "\n",
    "# Build vocab\n",
    "from collections import Counter\n",
    "vocab = Counter()\n",
    "for tokens in merged_df['tokens']:\n",
    "    vocab.update(tokens)\n",
    "\n",
    "word2idx = {word: i+2 for i, (word, _) in enumerate(vocab.items())}\n",
    "word2idx['<PAD>'] = 0\n",
    "word2idx['<UNK>'] = 1\n",
    "\n",
    "def encode_tokens(tokens, max_len=100):\n",
    "    idxs = [word2idx.get(word, word2idx['<UNK>']) for word in tokens]\n",
    "    if len(idxs) < max_len:\n",
    "        idxs += [word2idx['<PAD>']] * (max_len - len(idxs))\n",
    "    return idxs[:max_len]\n",
    "\n",
    "merged_df['input_ids'] = merged_df['tokens'].apply(lambda x: encode_tokens(x, max_len=100))\n",
    "\n",
    "# Dataset & Dataloader\n",
    "class SentimentDataset(Dataset):\n",
    "    def __init__(self, input_ids, labels):\n",
    "        self.input_ids = input_ids\n",
    "        self.labels = labels\n",
    "\n",
    "    def __len__(self):\n",
    "        return len(self.input_ids)\n",
    "\n",
    "    def __getitem__(self, idx):\n",
    "        return torch.tensor(self.input_ids[idx]), torch.tensor(self.labels[idx])\n",
    "\n",
    "X_train, X_test, y_train, y_test = train_test_split(merged_df['input_ids'].tolist(), merged_df['label'].tolist(), test_size=0.2, random_state=42)\n",
    "\n",
    "train_dataset = SentimentDataset(X_train, y_train)\n",
    "test_dataset = SentimentDataset(X_test, y_test)\n",
    "\n",
    "train_loader = DataLoader(train_dataset, batch_size=32, shuffle=True)\n",
    "test_loader = DataLoader(test_dataset, batch_size=32)\n",
    "\n",
    "# Hierarchical GCNN Model\n",
    "class GatedCNN(nn.Module):\n",
    "    def __init__(self, vocab_size, embed_dim, num_classes):\n",
    "        super(GatedCNN, self).__init__()\n",
    "        self.embedding = nn.Embedding(vocab_size, embed_dim, padding_idx=0)\n",
    "        self.conv = nn.Conv1d(embed_dim, 128, kernel_size=3, padding=1)\n",
    "        self.gate = nn.Conv1d(embed_dim, 128, kernel_size=3, padding=1)\n",
    "        self.pool = nn.AdaptiveMaxPool1d(1)\n",
    "        self.fc = nn.Linear(128, num_classes)\n",
    "\n",
    "    def forward(self, x):\n",
    "        x = self.embedding(x)        # (B, T, D)\n",
    "        x = x.permute(0, 2, 1)       # (B, D, T)\n",
    "        conv_out = self.conv(x)\n",
    "        gate_out = torch.sigmoid(self.gate(x))\n",
    "        x = conv_out * gate_out\n",
    "        x = self.pool(x).squeeze(-1)\n",
    "        return self.fc(x)\n",
    "\n",
    "# Initialize model\n",
    "device = torch.device(\"cuda\" if torch.cuda.is_available() else \"cpu\")\n",
    "model = GatedCNN(vocab_size=len(word2idx), embed_dim=100, num_classes=3).to(device)\n",
    "\n",
    "# Training setup\n",
    "criterion = nn.CrossEntropyLoss()\n",
    "optimizer = torch.optim.Adam(model.parameters(), lr=1e-3)\n",
    "\n",
    "# Training loop\n",
    "for epoch in range(3):\n",
    "    model.train()\n",
    "    total_loss = 0\n",
    "    for inputs, labels in train_loader:\n",
    "        inputs, labels = inputs.to(device), labels.to(device)\n",
    "        optimizer.zero_grad()\n",
    "        outputs = model(inputs)\n",
    "        loss = criterion(outputs, labels)\n",
    "        loss.backward()\n",
    "        optimizer.step()\n",
    "        total_loss += loss.item()\n",
    "    print(f\"Epoch {epoch+1}, Loss: {total_loss:.4f}\")\n",
    "\n",
    "# Evaluation\n",
    "model.eval()\n",
    "all_preds, all_labels = [], []\n",
    "with torch.no_grad():\n",
    "    for inputs, labels in test_loader:\n",
    "        inputs = inputs.to(device)\n",
    "        outputs = model(inputs)\n",
    "        preds = torch.argmax(outputs, dim=1).cpu().numpy()\n",
    "        all_preds.extend(preds)\n",
    "        all_labels.extend(labels.numpy())\n",
    "\n",
    "print(classification_report(all_labels, all_preds, target_names=label_encoder.classes_))\n"
   ]
  },
  {
   "cell_type": "code",
   "execution_count": 60,
   "id": "77291d4d",
   "metadata": {},
   "outputs": [
    {
     "data": {
      "image/png": "[encoded data removed]",
      "text/plain": [
       "<Figure size 640x480 with 2 Axes>"
      ]
     },
     "metadata": {},
     "output_type": "display_data"
    }
   ],
   "source": [
    "# Confusion matrix\n",
    "cm = confusion_matrix(all_labels, all_preds)\n",
    "sns.heatmap(cm, annot=True, fmt='d', cmap='Blues', xticklabels=label_encoder.classes_, yticklabels=label_encoder.classes_)\n",
    "plt.title(\"Confusion Matrix - Hierarchical GCNN\")\n",
    "plt.xlabel(\"Predicted\")\n",
    "plt.ylabel(\"Actual\")\n",
    "plt.tight_layout()\n",
    "plt.show()"
   ]
  },
  {
   "cell_type": "code",
   "execution_count": 61,
   "id": "38fb9dbe",
   "metadata": {},
   "outputs": [
    {
     "name": "stdout",
     "output_type": "stream",
     "text": [
      "\n",
      "Text: especially like put energy used BTC mining transactions perspective . industry green energy...\n",
      "True: positive, Predicted: positive\n",
      "\n",
      "Text: next moon trip scheduled $ GREEN 500 % APY 30 day stake LFG ! ! ! GREENCHARTARMY 🔥🚀🌑 ( 's late ! ) B...\n",
      "True: negative, Predicted: neutral\n",
      "\n",
      "Text: Top Trending Cryptocurrency Post - COUP brought Crypto world . stayed believer help country many way...\n",
      "True: positive, Predicted: positive\n",
      "\n",
      "Text: Crypto Prices ( USD/₿ ) Bitcoin ⇨ $ 61413.7073➷ AxieInfinity ⇨ $ 162.1817➶ VeChain ⇨ $ 0.158➷ Ethere...\n",
      "True: neutral, Predicted: negative\n",
      "\n",
      "Text: Bitcoin Fear Greed Index 71 /pXkA6O5Vmq...\n",
      "True: negative, Predicted: positive\n"
     ]
    }
   ],
   "source": [
    "# Example predictions\n",
    "for i in range(5):\n",
    "    print(f\"\\nText: {merged_df.iloc[i]['text_no_stopwords'][:100]}...\")\n",
    "    print(f\"True: {merged_df.iloc[i]['vader_sentiment']}, Predicted: {label_encoder.inverse_transform([all_preds[i]])[0]}\")"
   ]
  },
  {
   "cell_type": "code",
   "execution_count": 73,
   "id": "70d75c59",
   "metadata": {},
   "outputs": [
    {
     "name": "stdout",
     "output_type": "stream",
     "text": [
      "Fold 1 Accuracy: 0.6656\n",
      "Fold 2 Accuracy: 0.6896\n",
      "Fold 3 Accuracy: 0.6700\n",
      "Fold 4 Accuracy: 0.6768\n",
      "Fold 5 Accuracy: 0.6786\n",
      "\n",
      "Average 5-Fold Cross-Validation Accuracy: 0.6761\n"
     ]
    }
   ],
   "source": [
    "from sklearn.model_selection import KFold\n",
    "from sklearn.metrics import accuracy_score\n",
    "\n",
    "# 5-Fold Cross-Validation\n",
    "kf = KFold(n_splits=5, shuffle=True, random_state=42)\n",
    "cv_accuracies = []\n",
    "\n",
    "X = merged_df['input_ids'].tolist()\n",
    "y = merged_df['label'].tolist()\n",
    "\n",
    "for fold, (train_idx, val_idx) in enumerate(kf.split(X)):\n",
    "    X_fold_train = [X[i] for i in train_idx]\n",
    "    y_fold_train = [y[i] for i in train_idx]\n",
    "    X_fold_val = [X[i] for i in val_idx]\n",
    "    y_fold_val = [y[i] for i in val_idx]\n",
    "\n",
    "    train_dataset = SentimentDataset(X_fold_train, y_fold_train)\n",
    "    val_dataset = SentimentDataset(X_fold_val, y_fold_val)\n",
    "    train_loader = DataLoader(train_dataset, batch_size=32, shuffle=True)\n",
    "    val_loader = DataLoader(val_dataset, batch_size=32)\n",
    "\n",
    "    # Fresh model for each fold\n",
    "    model = GatedCNN(vocab_size=len(word2idx), embed_dim=100, num_classes=3).to(device)\n",
    "    optimizer = torch.optim.Adam(model.parameters(), lr=1e-3)\n",
    "\n",
    "    # Train for a few epochs\n",
    "    for epoch in range(3):\n",
    "        model.train()\n",
    "        for inputs, labels in train_loader:\n",
    "            inputs, labels = inputs.to(device), labels.to(device)\n",
    "            optimizer.zero_grad()\n",
    "            outputs = model(inputs)\n",
    "            loss = criterion(outputs, labels)\n",
    "            loss.backward()\n",
    "            optimizer.step()\n",
    "\n",
    "    # Evaluate\n",
    "    model.eval()\n",
    "    val_preds, val_labels = [], []\n",
    "    with torch.no_grad():\n",
    "        for inputs, labels in val_loader:\n",
    "            inputs = inputs.to(device)\n",
    "            outputs = model(inputs)\n",
    "            preds = torch.argmax(outputs, dim=1).cpu().numpy()\n",
    "            val_preds.extend(preds)\n",
    "            val_labels.extend(labels.numpy())\n",
    "    acc = accuracy_score(val_labels, val_preds)\n",
    "    print(f\"Fold {fold+1} Accuracy: {acc:.4f}\")\n",
    "    cv_accuracies.append(acc)\n",
    "\n",
    "# Average Cross-Validation Accuracy\n",
    "avg_cv_accuracy = np.mean(cv_accuracies)\n",
    "print(f\"\\nAverage 5-Fold Cross-Validation Accuracy: {avg_cv_accuracy:.4f}\")\n"
   ]
  },
  {
   "cell_type": "markdown",
   "id": "5e4b5de0",
   "metadata": {},
   "source": [
    "## Traditional Machine Learning \n",
    "Logistic Regression \n",
    "- run with GridSearchCV to get best parameters"
   ]
  },
  {
   "cell_type": "code",
   "execution_count": 89,
   "id": "6fceff23",
   "metadata": {},
   "outputs": [
    {
     "name": "stdout",
     "output_type": "stream",
     "text": [
      "Best Parameters: {'C': 10}\n",
      "              precision    recall  f1-score   support\n",
      "\n",
      "           0       0.80      1.00      0.89      1748\n",
      "           1       1.00      0.03      0.06       462\n",
      "\n",
      "    accuracy                           0.80      2210\n",
      "   macro avg       0.90      0.52      0.47      2210\n",
      "weighted avg       0.84      0.80      0.71      2210\n",
      "\n"
     ]
    }
   ],
   "source": [
    "from sklearn.model_selection import train_test_split, GridSearchCV\n",
    "from sklearn.linear_model import LogisticRegression\n",
    "from sklearn.metrics import classification_report\n",
    "\n",
    "from sklearn.feature_extraction.text import TfidfVectorizer\n",
    "\n",
    "# # Create TF-IDF features from cleaned text\n",
    "# tfidf = TfidfVectorizer(max_features=3000)\n",
    "# X_log = tfidf.fit_transform(df['cleaned_text'])  # Cleaned and lemmatized text\n",
    "# y = df['label']  # 0 or 1, from BERT-based sentiment\n",
    "\n",
    "X_train, X_test, y_train, y_test = train_test_split(X_log, y_log, test_size=0.2, random_state=42)\n",
    "\n",
    "params = {\"C\": [0.1, 1, 10, 100]}\n",
    "grid = GridSearchCV(LogisticRegression(max_iter=200), param_grid=params, cv=5)\n",
    "grid.fit(X_train, y_train)\n",
    "\n",
    "y_pred = grid.predict(X_test)\n",
    "print(\"Best Parameters:\", grid.best_params_)\n",
    "print(classification_report(y_test, y_pred))\n"
   ]
  },
  {
   "cell_type": "code",
   "execution_count": 90,
   "id": "370f3056",
   "metadata": {},
   "outputs": [
    {
     "data": {
      "image/png": "[encoded data removed]",
      "text/plain": [
       "<Figure size 640x480 with 2 Axes>"
      ]
     },
     "metadata": {},
     "output_type": "display_data"
    }
   ],
   "source": [
    "from sklearn.metrics import confusion_matrix, roc_auc_score, roc_curve, auc\n",
    "import seaborn as sns\n",
    "import matplotlib.pyplot as plt\n",
    "import numpy as np\n",
    "\n",
    "cm = confusion_matrix(y_test, y_pred)\n",
    "sns.heatmap(cm, annot=True, fmt=\"d\", cmap=\"Blues\",\n",
    "            xticklabels=['Positive', 'Negative'],\n",
    "            yticklabels=['Positive', 'Negative'])\n",
    "plt.title(\"Confusion Matrix\")\n",
    "plt.xlabel(\"Predicted\")\n",
    "plt.ylabel(\"Actual\")\n",
    "plt.show()\n"
   ]
  },
  {
   "cell_type": "markdown",
   "id": "6ac0114a",
   "metadata": {},
   "source": [
    "k-fold Cross-Validation"
   ]
  },
  {
   "cell_type": "code",
   "execution_count": 92,
   "id": "435bbba6",
   "metadata": {},
   "outputs": [
    {
     "name": "stdout",
     "output_type": "stream",
     "text": [
      "Average 5-Fold Accuracy: 0.7866389041948917\n"
     ]
    }
   ],
   "source": [
    "from sklearn.model_selection import train_test_split, cross_val_score, GridSearchCV\n",
    "# ==== CROSS VALIDATION ====\n",
    "cv_scores_log = cross_val_score(grid.best_estimator_, X_log, y_log, cv=5)\n",
    "print(\"Average 5-Fold Accuracy:\", cv_scores_log.mean())\n"
   ]
  },
  {
   "cell_type": "markdown",
   "id": "659e6c3f",
   "metadata": {},
   "source": [
    "SVM"
   ]
  },
  {
   "cell_type": "code",
   "execution_count": 113,
   "id": "11fc8278",
   "metadata": {},
   "outputs": [
    {
     "name": "stdout",
     "output_type": "stream",
     "text": [
      "              precision    recall  f1-score   support\n",
      "\n",
      "           0       0.51      0.14      0.22       971\n",
      "           1       0.57      0.90      0.70      1239\n",
      "\n",
      "    accuracy                           0.56      2210\n",
      "   macro avg       0.54      0.52      0.46      2210\n",
      "weighted avg       0.54      0.56      0.49      2210\n",
      "\n",
      "AUC: 0.5639447945213449\n"
     ]
    },
    {
     "data": {
      "image/png": "[encoded data removed]",
      "text/plain": [
       "<Figure size 800x600 with 1 Axes>"
      ]
     },
     "metadata": {},
     "output_type": "display_data"
    }
   ],
   "source": [
    "import pandas as pd\n",
    "from sklearn.model_selection import train_test_split\n",
    "from sklearn.feature_extraction.text import TfidfVectorizer\n",
    "from sklearn.svm import LinearSVC\n",
    "from sklearn.calibration import CalibratedClassifierCV\n",
    "from sklearn.metrics import classification_report, roc_auc_score, roc_curve\n",
    "import matplotlib.pyplot as plt\n",
    "\n",
    "# Load and prepare data\n",
    "df = pd.read_csv(\"merged_df.csv\")\n",
    "df = df.dropna(subset=['text_no_stopwords'])\n",
    "df['Sentiment_Label'] = (df['Close'] > df['Open']).astype(int)\n",
    "\n",
    "X = df['text_no_stopwords'].astype(str)\n",
    "y_svm = df['Sentiment_Label']\n",
    "\n",
    "# TF-IDF vectorization\n",
    "vectorizer = TfidfVectorizer(max_features=5000)\n",
    "X_svm = vectorizer.fit_transform(X)\n",
    "\n",
    "# Train-test split\n",
    "X_train, X_test, y_train, y_test_svm = train_test_split(X_svm, y_svm, test_size=0.2, random_state=42)\n",
    "\n",
    "# Train SVM with calibrated probabilities\n",
    "base_svm = LinearSVC()\n",
    "svm = CalibratedClassifierCV(base_svm)  # enables probability prediction\n",
    "svm.fit(X_train, y_train)\n",
    "\n",
    "# Predict and evaluate\n",
    "y_pred_svm = svm.predict(X_test)\n",
    "y_proba = svm.predict_proba(X_test)[:, 1]\n",
    "\n",
    "print(classification_report(y_test_svm, y_pred_svm))\n",
    "print(\"AUC:\", roc_auc_score(y_test, y_proba))\n",
    "\n",
    "# Plot ROC Curve\n",
    "fpr, tpr, _ = roc_curve(y_test, y_proba)\n",
    "plt.figure(figsize=(8, 6))\n",
    "plt.plot(fpr, tpr, label=f'SVM (AUC = {roc_auc_score(y_test, y_proba):.2f})')\n",
    "plt.plot([0, 1], [0, 1], linestyle='--', color='gray')\n",
    "plt.xlabel(\"False Positive Rate\")\n",
    "plt.ylabel(\"True Positive Rate\")\n",
    "plt.title(\"ROC Curve - SVM\")\n",
    "plt.legend()\n",
    "plt.grid(True)\n",
    "plt.show()\n"
   ]
  },
  {
   "cell_type": "markdown",
   "id": "6c72bd92",
   "metadata": {},
   "source": [
    "Predicted Output "
   ]
  },
  {
   "cell_type": "code",
   "execution_count": 114,
   "id": "4249b54d",
   "metadata": {},
   "outputs": [
    {
     "name": "stdout",
     "output_type": "stream",
     "text": [
      "\n",
      "Text: Dollar , yen retreat risk sentiment revives , Musk lifts bitcoin /AR96Q2EqJL Bitcoin Cryptocurrency FinTech Digital Curr...\n",
      "True Label: 1\n",
      "Predicted Label: 1 (Confidence: 0.64)\n",
      "\n",
      "Text: FIRE ANOTHER ONE ! ! ! BITCOIN /DRfnwcen3B...\n",
      "True Label: 0\n",
      "Predicted Label: 1 (Confidence: 0.58)\n",
      "\n",
      "Text: ’ scared , remember Bitcoin long term holders right . n't let vola flush , think long term . /2JtVrb2XHH...\n",
      "True Label: 1\n",
      "Predicted Label: 1 (Confidence: 0.61)\n",
      "\n",
      "Text: CRYPTO NEWS : Bitcoin ( BTC ) Price Prediction : BTC/USD Slumps $ 30k , Bulls Hold Current Support ? /DmO8lwhgxe btc btc...\n",
      "True Label: 0\n",
      "Predicted Label: 0 (Confidence: 0.46)\n",
      "\n",
      "Text: buying ADA . 's purpose trying change financial system keep converting crypto fiat money ? One day 'll say much btc fiat...\n",
      "True Label: 0\n",
      "Predicted Label: 1 (Confidence: 0.57)\n",
      "\n",
      "Text: Politician love hate Bitcoin...\n",
      "True Label: 1\n",
      "Predicted Label: 1 (Confidence: 0.57)\n",
      "\n",
      "Text: n't forget follow .. 🚀🚀🚀 $ ONT Long Position ( v1 ) 🚀🚀🚀 Entry Price : 1.0388 Target:1.0437 Stop:1.0282 Binance Bitcoin S...\n",
      "True Label: 0\n",
      "Predicted Label: 1 (Confidence: 0.57)\n",
      "\n",
      "Text: Transformation Could See Overtake Bitcoin Transformation bitcoin ethereum /Cng9iZABGf...\n",
      "True Label: 1\n",
      "Predicted Label: 0 (Confidence: 0.40)\n",
      "\n",
      "Text: Daily Top 5 Performers , Reddit - Messages 🥇 $ LRC +15,933 🥈 $ CRO +8,593 🥉 $ BTC +5,299 🚀 $ DOGE +5,047 🚀 $ SHIB +4,292...\n",
      "True Label: 1\n",
      "Predicted Label: 1 (Confidence: 0.61)\n",
      "\n",
      "Text: Bitcoin heads toward lowest level 2021 crypto 's slide continues stock-market rout - MarketWatch BitcoinCrash /v04IRvR28...\n",
      "True Label: 0\n",
      "Predicted Label: 1 (Confidence: 0.63)\n"
     ]
    }
   ],
   "source": [
    "# Show some predictions\n",
    "example_df = df.iloc[X_test.indices[:10]].copy() \n",
    "# Predict and get probabilities\n",
    "example_texts = example_df['text_no_stopwords'].astype(str).tolist()\n",
    "example_vectors = vectorizer.transform(example_texts)\n",
    "example_preds = svm.predict(example_vectors)\n",
    "example_proba = svm.predict_proba(example_vectors)[:, 1]\n",
    "\n",
    "# Display results\n",
    "for i, row in example_df.iterrows():\n",
    "    print(f\"\\nText: {row['text_no_stopwords'][:120]}...\")  \n",
    "    print(f\"True Label: {row['Sentiment_Label']}\")\n",
    "    print(f\"Predicted Label: {example_preds[i % 10]} (Confidence: {example_proba[i % 10]:.2f})\")\n"
   ]
  },
  {
   "cell_type": "markdown",
   "id": "c59670f5",
   "metadata": {},
   "source": [
    "Confusion Matrix "
   ]
  },
  {
   "cell_type": "code",
   "execution_count": 115,
   "id": "f2d1b281",
   "metadata": {},
   "outputs": [
    {
     "data": {
      "image/png": "[encoded data removed]",
      "text/plain": [
       "<Figure size 640x480 with 2 Axes>"
      ]
     },
     "metadata": {},
     "output_type": "display_data"
    }
   ],
   "source": [
    "from sklearn.metrics import confusion_matrix, ConfusionMatrixDisplay\n",
    "# Compute and display the confusion matrix\n",
    "cm = confusion_matrix(y_test_svm, y_pred_svm)\n",
    "disp = ConfusionMatrixDisplay(confusion_matrix=cm, display_labels=svm.classes_)\n",
    "disp.plot(cmap='Blues')\n",
    "plt.title(\"Confusion Matrix - SVM\")\n",
    "plt.grid(False)\n",
    "plt.show()"
   ]
  },
  {
   "cell_type": "markdown",
   "id": "6d62722c",
   "metadata": {},
   "source": [
    "Cross Validation"
   ]
  },
  {
   "cell_type": "code",
   "execution_count": 116,
   "id": "2b836b8f",
   "metadata": {},
   "outputs": [
    {
     "name": "stdout",
     "output_type": "stream",
     "text": [
      "Average 5-Fold Accuracy: 0.5602401119238655\n"
     ]
    }
   ],
   "source": [
    "from sklearn.model_selection import train_test_split, cross_val_score, GridSearchCV\n",
    "# ==== CROSS VALIDATION ====\n",
    "cv_scores_svm = cross_val_score(grid.best_estimator_, X_svm, y_svm, cv=5)\n",
    "print(\"Average 5-Fold Accuracy:\", cv_scores_svm.mean())"
   ]
  },
  {
   "cell_type": "markdown",
   "id": "7ef85aef",
   "metadata": {},
   "source": [
    "Word2Vec- Logistic Regression"
   ]
  },
  {
   "cell_type": "code",
   "execution_count": 100,
   "id": "e06997c8",
   "metadata": {},
   "outputs": [
    {
     "name": "stdout",
     "output_type": "stream",
     "text": [
      "Classification Report (Word2Vec):\n",
      "\n",
      "              precision    recall  f1-score   support\n",
      "\n",
      "           0       0.79      1.00      0.88      1748\n",
      "           1       0.00      0.00      0.00       462\n",
      "\n",
      "    accuracy                           0.79      2210\n",
      "   macro avg       0.40      0.50      0.44      2210\n",
      "weighted avg       0.63      0.79      0.70      2210\n",
      "\n"
     ]
    },
    {
     "name": "stderr",
     "output_type": "stream",
     "text": [
      "c:\\Users\\USER\\anaconda3\\envs\\nlp_env\\Lib\\site-packages\\sklearn\\metrics\\_classification.py:1706: UndefinedMetricWarning: Precision is ill-defined and being set to 0.0 in labels with no predicted samples. Use `zero_division` parameter to control this behavior.\n",
      "  _warn_prf(average, modifier, f\"{metric.capitalize()} is\", result.shape[0])\n",
      "c:\\Users\\USER\\anaconda3\\envs\\nlp_env\\Lib\\site-packages\\sklearn\\metrics\\_classification.py:1706: UndefinedMetricWarning: Precision is ill-defined and being set to 0.0 in labels with no predicted samples. Use `zero_division` parameter to control this behavior.\n",
      "  _warn_prf(average, modifier, f\"{metric.capitalize()} is\", result.shape[0])\n",
      "c:\\Users\\USER\\anaconda3\\envs\\nlp_env\\Lib\\site-packages\\sklearn\\metrics\\_classification.py:1706: UndefinedMetricWarning: Precision is ill-defined and being set to 0.0 in labels with no predicted samples. Use `zero_division` parameter to control this behavior.\n",
      "  _warn_prf(average, modifier, f\"{metric.capitalize()} is\", result.shape[0])\n"
     ]
    }
   ],
   "source": [
    "from gensim.models import Word2Vec\n",
    "from transformers import pipeline, BertTokenizer, BertForSequenceClassification\n",
    "import torch\n",
    "\n",
    "\n",
    "X_vec = np.array([vector_average(toks) for toks in tokenized])\n",
    "X_train_w2v, X_test_w2v, y_train_w2v, y_test_w2v = train_test_split(X_vec, y_log, test_size=0.2, random_state=42)\n",
    "\n",
    "clf_w2v = LogisticRegression(max_iter=200).fit(X_train_w2v, y_train_w2v)\n",
    "y_pred_w2v = clf_w2v.predict(X_test_w2v)\n",
    "\n",
    "print(\"Classification Report (Word2Vec):\\n\")\n",
    "print(classification_report(y_test_w2v, y_pred_w2v))\n"
   ]
  },
  {
   "cell_type": "code",
   "execution_count": 103,
   "id": "8bd18962",
   "metadata": {},
   "outputs": [
    {
     "data": {
      "image/png": "[encoded data removed]",
      "text/plain": [
       "<Figure size 640x480 with 2 Axes>"
      ]
     },
     "metadata": {},
     "output_type": "display_data"
    }
   ],
   "source": [
    "import seaborn as sns\n",
    "import matplotlib.pyplot as plt\n",
    "from sklearn.metrics import confusion_matrix\n",
    "\n",
    "confusion_matrix = confusion_matrix(y_test_w2v, y_pred_w2v)\n",
    "sns.heatmap(confusion_matrix, annot=True, fmt='d', cmap='Blues', xticklabels=['Negative', 'Positive'], yticklabels=['Negative', 'Positive'])\n",
    "plt.title(\"Confusion Matrix - Word2Vec\")\n",
    "plt.xlabel(\"Predicted\")\n",
    "plt.ylabel(\"Actual\")\n",
    "plt.show()"
   ]
  },
  {
   "cell_type": "markdown",
   "id": "d1deaab4",
   "metadata": {},
   "source": [
    "## Transformer \n",
    "\n",
    "BERT (for fine tune classification and ASBA tasks)"
   ]
  },
  {
   "cell_type": "code",
   "execution_count": 107,
   "id": "1ba3daa8",
   "metadata": {},
   "outputs": [
    {
     "name": "stderr",
     "output_type": "stream",
     "text": [
      "No model was supplied, defaulted to distilbert/distilbert-base-uncased-finetuned-sst-2-english and revision 714eb0f (https://huggingface.co/distilbert/distilbert-base-uncased-finetuned-sst-2-english).\n",
      "Using a pipeline without specifying a model name and revision in production is not recommended.\n",
      "Device set to use cpu\n"
     ]
    }
   ],
   "source": [
    "# ==== BINARY LABELING FOR BERT ====\n",
    "from transformers import pipeline as hf_pipeline\n",
    "sentiment_pipeline = hf_pipeline(\"sentiment-analysis\", framework=\"pt\")\n",
    "\n",
    "def get_sentiment_label(text):\n",
    "    result = sentiment_pipeline(text[:512])[0]\n",
    "    return result['label'].lower()\n",
    "\n",
    "df['sentiment'] = df['text'].apply(get_sentiment_label)\n",
    "label_map = {'negative': 0, 'positive': 1}\n",
    "df = df[df['sentiment'].isin(label_map.keys())]\n",
    "df['label'] = df['sentiment'].map(label_map)\n"
   ]
  },
  {
   "cell_type": "code",
   "execution_count": 108,
   "id": "ed724afe",
   "metadata": {},
   "outputs": [
    {
     "data": {
      "text/plain": [
       "0        1\n",
       "1        0\n",
       "2        1\n",
       "3        0\n",
       "4        0\n",
       "        ..\n",
       "11042    0\n",
       "11043    0\n",
       "11044    1\n",
       "11045    0\n",
       "11046    1\n",
       "Name: label, Length: 11047, dtype: int64"
      ]
     },
     "execution_count": 108,
     "metadata": {},
     "output_type": "execute_result"
    }
   ],
   "source": [
    "df['label']"
   ]
  },
  {
   "cell_type": "code",
   "execution_count": 109,
   "id": "a1fe24b4",
   "metadata": {},
   "outputs": [
    {
     "name": "stderr",
     "output_type": "stream",
     "text": [
      "Some weights of BertForSequenceClassification were not initialized from the model checkpoint at bert-base-uncased and are newly initialized: ['classifier.bias', 'classifier.weight']\n",
      "You should probably TRAIN this model on a down-stream task to be able to use it for predictions and inference.\n"
     ]
    },
    {
     "name": "stdout",
     "output_type": "stream",
     "text": [
      "Epoch 1, Avg Loss: 0.5154\n",
      "Epoch 2, Avg Loss: 0.4805\n",
      "Epoch 3, Avg Loss: 0.4346\n"
     ]
    }
   ],
   "source": [
    "# =======================\n",
    "from transformers import BertTokenizer, BertForSequenceClassification\n",
    "import torch\n",
    "from torch.utils.data import TensorDataset, DataLoader\n",
    "from sklearn.metrics import classification_report, confusion_matrix\n",
    "\n",
    "\n",
    "# Tokenizer and model\n",
    "tokenizer = BertTokenizer.from_pretrained('bert-base-uncased')\n",
    "model = BertForSequenceClassification.from_pretrained('bert-base-uncased', num_labels=2)\n",
    "\n",
    "# Tokenization function\n",
    "def encode_texts(texts):\n",
    "    encoded = tokenizer(texts, return_tensors='pt', padding=True, truncation=True, max_length=128)\n",
    "    return encoded['input_ids'], encoded['attention_mask']\n",
    "\n",
    "# Train/test split\n",
    "X_train_bert, X_test_bert, y_train_bert, y_test_bert = train_test_split(df['cleaned_text'].astype(str).tolist(), df['label'].tolist(), test_size=0.2, random_state=42)\n",
    "\n",
    "train_inputs, train_masks = encode_texts(X_train_bert)\n",
    "test_inputs, test_masks = encode_texts(X_test_bert)\n",
    "y_train_tensor = torch.tensor(y_train_bert)\n",
    "\n",
    "# Create DataLoader\n",
    "train_dataset = TensorDataset(train_inputs, train_masks, y_train_tensor)\n",
    "train_loader = DataLoader(train_dataset, batch_size=16, shuffle=True)\n",
    "\n",
    "# Set device\n",
    "device = torch.device(\"cuda\" if torch.cuda.is_available() else \"cpu\")\n",
    "model.to(device)\n",
    "\n",
    "# Training\n",
    "optimizer = torch.optim.AdamW(model.parameters(), lr=2e-5)\n",
    "model.train()\n",
    "\n",
    "for epoch in range(3):\n",
    "    total_loss = 0\n",
    "    for batch in train_loader:\n",
    "        b_input_ids, b_input_mask, b_labels = [t.to(device) for t in batch]\n",
    "        model.zero_grad()\n",
    "        outputs = model(b_input_ids, attention_mask=b_input_mask, labels=b_labels)\n",
    "        loss = outputs.loss\n",
    "        loss.backward()\n",
    "        optimizer.step()\n",
    "        total_loss += loss.item()\n",
    "    print(f\"Epoch {epoch+1}, Avg Loss: {total_loss/len(train_loader):.4f}\")\n",
    "\n",
    "# Evaluation\n",
    "model.eval()\n",
    "test_inputs, test_masks = test_inputs.to(device), test_masks.to(device)\n",
    "with torch.no_grad():\n",
    "    outputs = model(test_inputs, attention_mask=test_masks)\n",
    "    logits = outputs.logits\n",
    "    y_pred_bert = torch.argmax(logits, dim=1).cpu().numpy()\n"
   ]
  },
  {
   "cell_type": "code",
   "execution_count": 110,
   "id": "d9900d0f",
   "metadata": {},
   "outputs": [
    {
     "name": "stdout",
     "output_type": "stream",
     "text": [
      "\n",
      "Classification Report (BERT):\n",
      "\n",
      "              precision    recall  f1-score   support\n",
      "\n",
      "           0       0.81      0.97      0.88      1748\n",
      "           1       0.58      0.15      0.24       462\n",
      "\n",
      "    accuracy                           0.80      2210\n",
      "   macro avg       0.69      0.56      0.56      2210\n",
      "weighted avg       0.76      0.80      0.75      2210\n",
      "\n"
     ]
    },
    {
     "data": {
      "image/png": "[encoded data removed]",
      "text/plain": [
       "<Figure size 640x480 with 2 Axes>"
      ]
     },
     "metadata": {},
     "output_type": "display_data"
    }
   ],
   "source": [
    "# Report\n",
    "print(\"\\nClassification Report (BERT):\\n\")\n",
    "print(classification_report(y_test_bert, y_pred_bert))\n",
    "\n",
    "# Confusion Matrix\n",
    "cm_bert = confusion_matrix(y_test_bert, y_pred_bert)\n",
    "sns.heatmap(cm_bert, annot=True, fmt='d', cmap='Blues', xticklabels=['Negative', 'Positive'], yticklabels=['Negative', 'Positive'])\n",
    "plt.title(\"Confusion Matrix - BERT\")\n",
    "plt.xlabel(\"Predicted\")\n",
    "plt.ylabel(\"Actual\")\n",
    "plt.show()"
   ]
  },
  {
   "cell_type": "code",
   "execution_count": 72,
   "id": "d6111d2c",
   "metadata": {},
   "outputs": [],
   "source": [
    "# Create TF-IDF features\n",
    "tfidf = TfidfVectorizer(max_features=3000)\n",
    "X_tfidf = tfidf.fit_transform(df['cleaned_text'])\n",
    "y_tfidf = df['label']\n",
    "\n",
    "# Train/test split\n",
    "X_train_tfidf, X_test_tfidf, y_train_tfidf, y_test_tfidf = train_test_split(X_tfidf, y_tfidf, test_size=0.2, random_state=42)\n",
    "\n",
    "# Logistic Regression\n",
    "params = {\"C\": [0.1, 1, 10, 100]}\n",
    "grid = GridSearchCV(LogisticRegression(max_iter=200), param_grid=params, cv=5)\n",
    "grid.fit(X_train_tfidf, y_train_tfidf)\n",
    "y_pred_logreg = grid.predict(X_test_tfidf)\n",
    "\n",
    "# SVM\n",
    "base_svm = LinearSVC()\n",
    "svm = CalibratedClassifierCV(base_svm)\n",
    "svm.fit(X_train_tfidf, y_train_tfidf)\n",
    "y_pred_svm = svm.predict(X_test_tfidf)\n"
   ]
  },
  {
   "cell_type": "code",
   "execution_count": 117,
   "id": "f2aa92ce",
   "metadata": {},
   "outputs": [],
   "source": [
    "results = {\n",
    "    \"Logistic Regression\": {\n",
    "        \"y_true\": y_test,\n",
    "        \"y_pred\": y_pred\n",
    "    },\n",
    "    \"Logistic Regression(Word2Vec)\": {\n",
    "        \"y_true\":y_test_w2v,\n",
    "        \"y_pred\":y_pred_w2v\n",
    "    },\n",
    "    \"SVM\": {\n",
    "        \"y_true\": y_test_svm,\n",
    "        \"y_pred\": y_pred_svm\n",
    "    },\n",
    "    \"BiLSTM\": {\n",
    "        \"y_true\": simulated_y_test, \n",
    "        \"y_pred\": simulated_y_pred\n",
    "    },\n",
    "    \"Hier-GCNN\": {\n",
    "        \"y_true\": all_labels,\n",
    "        \"y_pred\": all_preds\n",
    "    },\n",
    "    \"BERT\": {\n",
    "        \"y_true\": y_test_bert,\n",
    "        \"y_pred\": y_pred_bert\n",
    "    }\n",
    "}"
   ]
  },
  {
   "cell_type": "code",
   "execution_count": 120,
   "id": "5c34c871",
   "metadata": {},
   "outputs": [
    {
     "name": "stderr",
     "output_type": "stream",
     "text": [
      "c:\\Users\\USER\\anaconda3\\envs\\nlp_env\\Lib\\site-packages\\sklearn\\metrics\\_classification.py:1706: UndefinedMetricWarning: Precision is ill-defined and being set to 0.0 in labels with no predicted samples. Use `zero_division` parameter to control this behavior.\n",
      "  _warn_prf(average, modifier, f\"{metric.capitalize()} is\", result.shape[0])\n"
     ]
    },
    {
     "data": {
      "image/png": "[encoded data removed]",
      "text/plain": [
       "<Figure size 1000x600 with 1 Axes>"
      ]
     },
     "metadata": {},
     "output_type": "display_data"
    },
    {
     "data": {
      "text/html": [
       "<div>\n",
       "<style scoped>\n",
       "    .dataframe tbody tr th:only-of-type {\n",
       "        vertical-align: middle;\n",
       "    }\n",
       "\n",
       "    .dataframe tbody tr th {\n",
       "        vertical-align: top;\n",
       "    }\n",
       "\n",
       "    .dataframe thead th {\n",
       "        text-align: right;\n",
       "    }\n",
       "</style>\n",
       "<table border=\"1\" class=\"dataframe\">\n",
       "  <thead>\n",
       "    <tr style=\"text-align: right;\">\n",
       "      <th></th>\n",
       "      <th>Model</th>\n",
       "      <th>Accuracy</th>\n",
       "      <th>F1 Score</th>\n",
       "      <th>precision</th>\n",
       "      <th>recall</th>\n",
       "    </tr>\n",
       "  </thead>\n",
       "  <tbody>\n",
       "    <tr>\n",
       "      <th>5</th>\n",
       "      <td>BERT</td>\n",
       "      <td>0.799548</td>\n",
       "      <td>0.750327</td>\n",
       "      <td>0.763437</td>\n",
       "      <td>0.799548</td>\n",
       "    </tr>\n",
       "    <tr>\n",
       "      <th>1</th>\n",
       "      <td>Logistic Regression(Word2Vec)</td>\n",
       "      <td>0.790950</td>\n",
       "      <td>0.698626</td>\n",
       "      <td>0.625602</td>\n",
       "      <td>0.790950</td>\n",
       "    </tr>\n",
       "    <tr>\n",
       "      <th>4</th>\n",
       "      <td>Hier-GCNN</td>\n",
       "      <td>0.670588</td>\n",
       "      <td>0.656227</td>\n",
       "      <td>0.658493</td>\n",
       "      <td>0.670588</td>\n",
       "    </tr>\n",
       "    <tr>\n",
       "      <th>0</th>\n",
       "      <td>Logistic Regression</td>\n",
       "      <td>0.563348</td>\n",
       "      <td>0.485925</td>\n",
       "      <td>0.544458</td>\n",
       "      <td>0.563348</td>\n",
       "    </tr>\n",
       "    <tr>\n",
       "      <th>2</th>\n",
       "      <td>SVM</td>\n",
       "      <td>0.563348</td>\n",
       "      <td>0.485925</td>\n",
       "      <td>0.544458</td>\n",
       "      <td>0.563348</td>\n",
       "    </tr>\n",
       "    <tr>\n",
       "      <th>3</th>\n",
       "      <td>BiLSTM</td>\n",
       "      <td>0.501810</td>\n",
       "      <td>0.501701</td>\n",
       "      <td>0.502408</td>\n",
       "      <td>0.501810</td>\n",
       "    </tr>\n",
       "  </tbody>\n",
       "</table>\n",
       "</div>"
      ],
      "text/plain": [
       "                           Model  Accuracy  F1 Score  precision    recall\n",
       "5                           BERT  0.799548  0.750327   0.763437  0.799548\n",
       "1  Logistic Regression(Word2Vec)  0.790950  0.698626   0.625602  0.790950\n",
       "4                      Hier-GCNN  0.670588  0.656227   0.658493  0.670588\n",
       "0            Logistic Regression  0.563348  0.485925   0.544458  0.563348\n",
       "2                            SVM  0.563348  0.485925   0.544458  0.563348\n",
       "3                         BiLSTM  0.501810  0.501701   0.502408  0.501810"
      ]
     },
     "execution_count": 120,
     "metadata": {},
     "output_type": "execute_result"
    }
   ],
   "source": [
    "from sklearn.metrics import accuracy_score, f1_score, precision_score, recall_score\n",
    "\n",
    "metrics_summary = []\n",
    "\n",
    "for model_name, result in results.items():\n",
    "    acc = accuracy_score(result[\"y_true\"], result[\"y_pred\"])\n",
    "    f1 = f1_score(result[\"y_true\"], result[\"y_pred\"], average=\"weighted\")\n",
    "    metrics_summary.append({\n",
    "        \"Model\": model_name,\n",
    "        \"Accuracy\": acc,\n",
    "        \"F1 Score\": f1,\n",
    "        \"precision\": precision_score(result[\"y_true\"], result[\"y_pred\"], average=\"weighted\"),\n",
    "        \"recall\": recall_score(result[\"y_true\"], result[\"y_pred\"], average=\"weighted\")\n",
    "    })\n",
    "\n",
    "# Create DataFrame for summary\n",
    "metrics_df = pd.DataFrame(metrics_summary).sort_values(by=\"Accuracy\", ascending=False)\n",
    "\n",
    "# Plotting comparison\n",
    "plt.figure(figsize=(10, 6))\n",
    "sns.barplot(data=metrics_df.melt(id_vars=\"Model\", var_name=\"Metric\", value_name=\"Score\"),\n",
    "            x=\"Model\", y=\"Score\", hue=\"Metric\")\n",
    "plt.title(\"Model Performance Comparison\")\n",
    "plt.ylim(0, 1)\n",
    "plt.xticks(rotation=45)\n",
    "plt.grid(True)\n",
    "plt.tight_layout()\n",
    "plt.show()\n",
    "\n",
    "metrics_df"
   ]
  },
  {
   "cell_type": "markdown",
   "id": "eea55bcd",
   "metadata": {},
   "source": [
    "This shows that BERT Transformer has the highest accuracy, f1-score, precision and recall, meaning that BERT is the most suitable model for sentiment model prediction analysis. \n"
   ]
  }
 ],
 "metadata": {
  "kernelspec": {
   "display_name": "nlp_env",
   "language": "python",
   "name": "python3"
  },
  "language_info": {
   "codemirror_mode": {
    "name": "ipython",
    "version": 3
   },
   "file_extension": ".py",
   "mimetype": "text/x-python",
   "name": "python",
   "nbconvert_exporter": "python",
   "pygments_lexer": "ipython3",
   "version": "3.12.9"
  }
 },
 "nbformat": 4,
 "nbformat_minor": 5
}
